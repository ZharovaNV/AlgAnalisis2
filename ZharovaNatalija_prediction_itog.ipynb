{
 "cells": [
  {
   "cell_type": "code",
   "execution_count": 1,
   "metadata": {},
   "outputs": [],
   "source": [
    "import numpy as np\n",
    "import pandas as pd\n",
    "from sklearn.model_selection import train_test_split\n",
    "import matplotlib.pyplot as plt\n",
    "import seaborn as sns\n",
    "import random"
   ]
  },
  {
   "cell_type": "code",
   "execution_count": 2,
   "metadata": {},
   "outputs": [],
   "source": [
    "import warnings\n",
    "\n",
    "warnings.filterwarnings('ignore')"
   ]
  },
  {
   "cell_type": "markdown",
   "metadata": {},
   "source": [
    "### Создание классов для модели \"Случайный лес\""
   ]
  },
  {
   "cell_type": "markdown",
   "metadata": {},
   "source": [
    "В результате экспетиментов в качестве модели выбран \"Случайнй лес\".\n",
    "\n",
    "Так как среди признаков много категориальных, то подстроение случайного леса, основанное на выборке параметров методом бутстрап, работает плохо, так как некоторые деревья при этом строятся только на категориальных переменных. Поэтому в алгоритм внесены изменения, так чтобы дерево всегда строилось на всем множетстве переменных - тесты показали, что в этом случае результат получается лучше.\n",
    "\n",
    "В качестве гиперпараметров оставлены только глубина дерева и количество деревьев, как наиболее существенно влияющие на результат."
   ]
  },
  {
   "cell_type": "code",
   "execution_count": 3,
   "metadata": {},
   "outputs": [],
   "source": [
    "# Реализуем класс узла\n",
    "\n",
    "class Node:\n",
    "    \n",
    "    def __init__(self, index, t, true_branch, false_branch):\n",
    "        self.index = index  # индекс признака, по которому ведется сравнение с порогом в этом узле\n",
    "        self.t = t  # значение порога\n",
    "        self.true_branch = true_branch  # поддерево, удовлетворяющее условию в узле\n",
    "        self.false_branch = false_branch  # поддерево, не удовлетворяющее условию в узле\n",
    "        \n",
    "# И класс терминального узла (листа)\n",
    "\n",
    "class Leaf:\n",
    "    \n",
    "    def __init__(self, data, labels):\n",
    "        self.data = data\n",
    "        self.labels = labels\n",
    "        self.prediction = self.predict()\n",
    "        \n",
    "    def predict(self):\n",
    "        # подсчет количества объектов разных классов\n",
    "        p_cnt = 0\n",
    "        for label in self.labels:\n",
    "            if label == 1:\n",
    "                p_cnt += 1\n",
    "        #  найдем класс, количество объектов которого будет максимальным в этом листе и вернем его    \n",
    "        prediction = p_cnt/len(self.labels)\n",
    "        return prediction     \n",
    "\n",
    "class OurDecisionTreeRegressor:\n",
    "    def __init__(\n",
    "        self, \n",
    "        max_depth: int = 0):\n",
    "        \n",
    "        self.max_depth = max_depth\n",
    "        self.cur_leaf = 0\n",
    "        self.depth = 0\n",
    "        self.cur_leaf = 0\n",
    "        self.tree = None\n",
    "        \n",
    "    def fit(self, data, labels):\n",
    "        \n",
    "        self.tree = self.build_tree(data, labels, 0)\n",
    "        return self\n",
    "    \n",
    "    \n",
    "    def predict(self, data):\n",
    "    \n",
    "        classes = []\n",
    "        for obj in data:\n",
    "            prediction = self.classify_object(obj, self.tree)\n",
    "            classes.append(prediction)\n",
    "        return classes\n",
    "    \n",
    "    \n",
    "    def build_tree(self, data, labels, cur_depth):\n",
    "\n",
    "\n",
    "        quality, t, index = self.find_best_split(data, labels)\n",
    "\n",
    "        #  Базовый случай - прекращаем рекурсию, когда нет прироста в качества\n",
    "        if quality == 0:\n",
    "            return Leaf(data, labels)\n",
    "\n",
    "        #  Ограничение на глубину дерева\n",
    "        if cur_depth >= self.max_depth:\n",
    "            return Leaf(data, labels)\n",
    "\n",
    "\n",
    "        true_data, false_data, true_labels, false_labels = self.split(data, labels, index, t)\n",
    "        \n",
    "        self.depth += 1\n",
    "        \n",
    "        # Рекурсивно строим два поддерева\n",
    "        true_branch = self.build_tree(true_data, true_labels, cur_depth + 1)\n",
    "        false_branch = self.build_tree(false_data, false_labels, cur_depth + 1)\n",
    "        \n",
    "\n",
    "        # Возвращаем класс узла со всеми поддеревьями, то есть целого дерева\n",
    "        return Node(index, t, true_branch, false_branch)\n",
    "    \n",
    "    # Нахождение наилучшего разбиения\n",
    "    def find_best_split(self, data, labels):\n",
    "    \n",
    "        #  обозначим минимальное количество объектов в узле\n",
    "        min_leaf = 5\n",
    "\n",
    "        current_criter = self.criterion(labels)\n",
    "\n",
    "        best_quality = 0\n",
    "        best_t = None\n",
    "        best_index = None\n",
    "\n",
    "        n_features = data.shape[1]\n",
    "\n",
    "        for index in range(n_features): \n",
    "            # будем проверять только уникальные значения признака, исключая повторения\n",
    "            t_values = np.unique([row[index] for row in data])\n",
    "\n",
    "            for t in t_values:\n",
    "                true_data, false_data, true_labels, false_labels = self.split(data, labels, index, t)\n",
    "                #  пропускаем разбиения, в которых в узле остается менее 5 объектов\n",
    "                if len(true_data) < min_leaf or len(false_data) < min_leaf:\n",
    "                    continue\n",
    "\n",
    "                current_quality = self.quality(true_labels, false_labels, current_criter)\n",
    "\n",
    "                #  выбираем порог, на котором получается максимальный прирост качества\n",
    "                if current_quality > best_quality:\n",
    "                    best_quality, best_t, best_index = current_quality, t, index\n",
    "\n",
    "        return best_quality, best_t, best_index\n",
    "    \n",
    "    # Разбиение датасета в узле\n",
    "    @staticmethod\n",
    "    def split(data, labels, index, t):\n",
    "\n",
    "        left = np.where(data[:, index] <= t)\n",
    "        right = np.where(data[:, index] > t)\n",
    "        \n",
    "        true_data = data[left]\n",
    "        false_data = data[right]\n",
    "        true_labels = labels[left]\n",
    "        false_labels = labels[right]\n",
    "\n",
    "        return true_data, false_data, true_labels, false_labels\n",
    "    \n",
    "    # Расчет качества\n",
    "    def quality(self, left_labels, right_labels, current_criter):\n",
    "\n",
    "        # доля выбоки, ушедшая в левое поддерево\n",
    "        p = float(left_labels.shape[0]) / (left_labels.shape[0] + right_labels.shape[0])\n",
    "\n",
    "        return current_criter - p * self.criterion(left_labels) - \\\n",
    "                (1 - p) * self.criterion(right_labels)\n",
    "    \n",
    "    # Расчет критерия Джини или Энтропии\n",
    "    @staticmethod\n",
    "    def criterion(labels):\n",
    "        classes = {}\n",
    "        for label in labels:\n",
    "            if label not in classes:\n",
    "                classes[label] = 0\n",
    "            classes[label] += 1\n",
    "        \n",
    "        impurity = 1\n",
    "        for label in classes:\n",
    "            p = classes[label] / len(labels)\n",
    "            impurity -= p ** 2\n",
    "        return impurity\n",
    "    \n",
    "    # классификация объектов\n",
    "    def classify_object(self, obj, node):\n",
    "\n",
    "        #  Останавливаем рекурсию, если достигли листа\n",
    "        if isinstance(node, Leaf):\n",
    "            answer = node.prediction\n",
    "            \n",
    "            return answer\n",
    "\n",
    "        if obj[node.index] <= node.t:\n",
    "            return self.classify_object(obj, node.true_branch)\n",
    "        else:\n",
    "            return self.classify_object(obj, node.false_branch)"
   ]
  },
  {
   "cell_type": "code",
   "execution_count": 4,
   "metadata": {},
   "outputs": [],
   "source": [
    "class OurRandomForestRegressor:\n",
    "    def __init__(\n",
    "        self, \n",
    "        n_trees: int = 0,\n",
    "        max_depth: int = 0):\n",
    "        \n",
    "        self.n_trees = n_trees\n",
    "        self.max_depth = max_depth\n",
    "        \n",
    "    def fit(self, data, labels):\n",
    "        \n",
    "        self.forest = []\n",
    "        self.forest = self.random_forest(data, labels)\n",
    "        return self\n",
    "    \n",
    "    def predict(self, data):\n",
    "        return self.tree_vote(data)\n",
    "    \n",
    "    \n",
    "    def random_forest(self, data, labels):\n",
    "\n",
    "        bootstrap = self.get_bootstrap(data, labels)\n",
    "\n",
    "        for b_data, b_labels in bootstrap:\n",
    "            tree = OurDecisionTreeRegressor(max_depth=self.max_depth)\n",
    "            self.forest.append(tree.fit(b_data, b_labels))\n",
    "\n",
    "        return self.forest\n",
    "    \n",
    "    \n",
    "    # предсказание голосованием деревьев\n",
    "    def tree_vote(self, data):\n",
    "\n",
    "        # добавим предсказания всех деревьев в список\n",
    "        predictions = []\n",
    "        for tree in self.forest:\n",
    "            # predictions.append(self.predict_on_tree(data, tree))\n",
    "            predictions.append(tree.predict(data))\n",
    "\n",
    "        # сформируем список с предсказаниями для каждого объекта\n",
    "        predictions_per_object = list(zip(*predictions))\n",
    "\n",
    "        # выберем в качестве итогового предсказания для каждого объекта то,\n",
    "        # за которое проголосовало большинство деревьев\n",
    "        voted_predictions = []\n",
    "        for obj in predictions_per_object:\n",
    "            #voted_predictions.append(max(set(obj), key=obj.count))\n",
    "            voted_predictions.append(np.mean(obj))\n",
    "\n",
    "        return voted_predictions\n",
    "    \n",
    "    def get_bootstrap(self, data, labels):\n",
    "        n_samples = data.shape[0]\n",
    "        bootstrap = []\n",
    "\n",
    "        for i in range(self.n_trees):\n",
    "            b_data = np.zeros(data.shape)\n",
    "            b_labels = np.zeros(labels.shape)\n",
    "\n",
    "            for j in range(n_samples):\n",
    "                sample_index = random.randint(0, n_samples-1)\n",
    "                b_data[j] = data[sample_index]\n",
    "                b_labels[j] = labels[sample_index]\n",
    "            bootstrap.append((b_data, b_labels))\n",
    "\n",
    "        return bootstrap\n",
    "    \n",
    "    @staticmethod\n",
    "    def get_subsample(len_sample):\n",
    "        # будем сохранять не сами признаки, а их индексы\n",
    "        sample_indexes = [i for i in range(len_sample)]\n",
    "\n",
    "        len_subsample = int(np.sqrt(len_sample))\n",
    "        subsample = []\n",
    "\n",
    "        random.shuffle(sample_indexes)\n",
    "        for _ in range(len_subsample):\n",
    "            subsample.append(sample_indexes.pop())\n",
    "\n",
    "        return subsample"
   ]
  },
  {
   "cell_type": "code",
   "execution_count": 5,
   "metadata": {},
   "outputs": [],
   "source": [
    "def my_roc_auc_score(y_true, y_score):\n",
    "       \n",
    "    y_score = np.array(y_score)\n",
    "    y_true = np.array(y_true)\n",
    "    y_true = (y_true == 1)\n",
    "\n",
    "    desc_score_indices = np.argsort(y_score, kind=\"mergesort\")[::-1]\n",
    "    y_score = y_score[desc_score_indices]\n",
    "    y_true = y_true[desc_score_indices]\n",
    "  \n",
    "    distinct_value_indices = np.where(np.diff(y_score))[0]\n",
    "    threshold_idxs = np.r_[distinct_value_indices, y_true.size - 1]\n",
    "\n",
    "    tps = np.cumsum(y_true)[threshold_idxs]\n",
    "    fps = 1 + threshold_idxs - tps\n",
    "\n",
    "    tps = np.r_[0, tps]\n",
    "    fps = np.r_[0, fps]\n",
    "    \n",
    "    fpr = fps / fps[-1]\n",
    "    tpr = tps / tps[-1]\n",
    "\n",
    "    return np.trapz(tpr, fpr)"
   ]
  },
  {
   "cell_type": "markdown",
   "metadata": {},
   "source": [
    "### Подготовка данных"
   ]
  },
  {
   "cell_type": "code",
   "execution_count": 43,
   "metadata": {},
   "outputs": [],
   "source": [
    "train_data = pd.read_csv('train.csv')\n",
    "test_data = pd.read_csv('test.csv')\n",
    "df = pd.concat([train_data, test_data], axis=0)"
   ]
  },
  {
   "cell_type": "code",
   "execution_count": 44,
   "metadata": {},
   "outputs": [
    {
     "data": {
      "text/html": [
       "<div>\n",
       "<style scoped>\n",
       "    .dataframe tbody tr th:only-of-type {\n",
       "        vertical-align: middle;\n",
       "    }\n",
       "\n",
       "    .dataframe tbody tr th {\n",
       "        vertical-align: top;\n",
       "    }\n",
       "\n",
       "    .dataframe thead th {\n",
       "        text-align: right;\n",
       "    }\n",
       "</style>\n",
       "<table border=\"1\" class=\"dataframe\">\n",
       "  <thead>\n",
       "    <tr style=\"text-align: right;\">\n",
       "      <th></th>\n",
       "      <th>Id</th>\n",
       "      <th>age</th>\n",
       "      <th>biology</th>\n",
       "      <th>chemistry</th>\n",
       "      <th>choose</th>\n",
       "      <th>english</th>\n",
       "      <th>geography</th>\n",
       "      <th>history</th>\n",
       "      <th>lesson_price</th>\n",
       "      <th>mean_exam_points</th>\n",
       "      <th>physics</th>\n",
       "      <th>qualification</th>\n",
       "      <th>years_of_experience</th>\n",
       "    </tr>\n",
       "  </thead>\n",
       "  <tbody>\n",
       "    <tr>\n",
       "      <td>0</td>\n",
       "      <td>0</td>\n",
       "      <td>35.0</td>\n",
       "      <td>0.0</td>\n",
       "      <td>0.0</td>\n",
       "      <td>0.0</td>\n",
       "      <td>0.0</td>\n",
       "      <td>0.0</td>\n",
       "      <td>0.0</td>\n",
       "      <td>2150.0</td>\n",
       "      <td>74.0</td>\n",
       "      <td>0.0</td>\n",
       "      <td>2.0</td>\n",
       "      <td>0.0</td>\n",
       "    </tr>\n",
       "    <tr>\n",
       "      <td>1</td>\n",
       "      <td>1</td>\n",
       "      <td>52.0</td>\n",
       "      <td>1.0</td>\n",
       "      <td>0.0</td>\n",
       "      <td>1.0</td>\n",
       "      <td>0.0</td>\n",
       "      <td>0.0</td>\n",
       "      <td>1.0</td>\n",
       "      <td>1250.0</td>\n",
       "      <td>57.0</td>\n",
       "      <td>1.0</td>\n",
       "      <td>2.0</td>\n",
       "      <td>2.0</td>\n",
       "    </tr>\n",
       "    <tr>\n",
       "      <td>2</td>\n",
       "      <td>2</td>\n",
       "      <td>29.0</td>\n",
       "      <td>0.0</td>\n",
       "      <td>0.0</td>\n",
       "      <td>0.0</td>\n",
       "      <td>0.0</td>\n",
       "      <td>0.0</td>\n",
       "      <td>0.0</td>\n",
       "      <td>1750.0</td>\n",
       "      <td>66.0</td>\n",
       "      <td>1.0</td>\n",
       "      <td>1.0</td>\n",
       "      <td>3.0</td>\n",
       "    </tr>\n",
       "    <tr>\n",
       "      <td>3</td>\n",
       "      <td>3</td>\n",
       "      <td>33.0</td>\n",
       "      <td>0.0</td>\n",
       "      <td>0.0</td>\n",
       "      <td>1.0</td>\n",
       "      <td>0.0</td>\n",
       "      <td>0.0</td>\n",
       "      <td>0.0</td>\n",
       "      <td>1050.0</td>\n",
       "      <td>66.0</td>\n",
       "      <td>0.0</td>\n",
       "      <td>1.0</td>\n",
       "      <td>3.0</td>\n",
       "    </tr>\n",
       "    <tr>\n",
       "      <td>4</td>\n",
       "      <td>4</td>\n",
       "      <td>46.0</td>\n",
       "      <td>0.0</td>\n",
       "      <td>0.0</td>\n",
       "      <td>0.0</td>\n",
       "      <td>0.0</td>\n",
       "      <td>0.0</td>\n",
       "      <td>0.0</td>\n",
       "      <td>2250.0</td>\n",
       "      <td>73.0</td>\n",
       "      <td>1.0</td>\n",
       "      <td>2.0</td>\n",
       "      <td>3.0</td>\n",
       "    </tr>\n",
       "  </tbody>\n",
       "</table>\n",
       "</div>"
      ],
      "text/plain": [
       "   Id   age  biology  chemistry  choose  english  geography  history  \\\n",
       "0   0  35.0      0.0        0.0     0.0      0.0        0.0      0.0   \n",
       "1   1  52.0      1.0        0.0     1.0      0.0        0.0      1.0   \n",
       "2   2  29.0      0.0        0.0     0.0      0.0        0.0      0.0   \n",
       "3   3  33.0      0.0        0.0     1.0      0.0        0.0      0.0   \n",
       "4   4  46.0      0.0        0.0     0.0      0.0        0.0      0.0   \n",
       "\n",
       "   lesson_price  mean_exam_points  physics  qualification  years_of_experience  \n",
       "0        2150.0              74.0      0.0            2.0                  0.0  \n",
       "1        1250.0              57.0      1.0            2.0                  2.0  \n",
       "2        1750.0              66.0      1.0            1.0                  3.0  \n",
       "3        1050.0              66.0      0.0            1.0                  3.0  \n",
       "4        2250.0              73.0      1.0            2.0                  3.0  "
      ]
     },
     "execution_count": 44,
     "metadata": {},
     "output_type": "execute_result"
    }
   ],
   "source": [
    "df.head()"
   ]
  },
  {
   "cell_type": "markdown",
   "metadata": {},
   "source": [
    "Посчитаем базовые статистики по набору данных"
   ]
  },
  {
   "cell_type": "code",
   "execution_count": 45,
   "metadata": {},
   "outputs": [
    {
     "data": {
      "text/html": [
       "<div>\n",
       "<style scoped>\n",
       "    .dataframe tbody tr th:only-of-type {\n",
       "        vertical-align: middle;\n",
       "    }\n",
       "\n",
       "    .dataframe tbody tr th {\n",
       "        vertical-align: top;\n",
       "    }\n",
       "\n",
       "    .dataframe thead th {\n",
       "        text-align: right;\n",
       "    }\n",
       "</style>\n",
       "<table border=\"1\" class=\"dataframe\">\n",
       "  <thead>\n",
       "    <tr style=\"text-align: right;\">\n",
       "      <th></th>\n",
       "      <th>count</th>\n",
       "      <th>mean</th>\n",
       "      <th>std</th>\n",
       "      <th>min</th>\n",
       "      <th>25%</th>\n",
       "      <th>50%</th>\n",
       "      <th>75%</th>\n",
       "      <th>max</th>\n",
       "    </tr>\n",
       "  </thead>\n",
       "  <tbody>\n",
       "    <tr>\n",
       "      <td>Id</td>\n",
       "      <td>20000.0</td>\n",
       "      <td>9999.50000</td>\n",
       "      <td>5773.647028</td>\n",
       "      <td>0.0</td>\n",
       "      <td>4999.75</td>\n",
       "      <td>9999.5</td>\n",
       "      <td>14999.25</td>\n",
       "      <td>19999.0</td>\n",
       "    </tr>\n",
       "    <tr>\n",
       "      <td>age</td>\n",
       "      <td>20000.0</td>\n",
       "      <td>45.86270</td>\n",
       "      <td>8.031163</td>\n",
       "      <td>23.0</td>\n",
       "      <td>40.00</td>\n",
       "      <td>46.0</td>\n",
       "      <td>51.00</td>\n",
       "      <td>68.0</td>\n",
       "    </tr>\n",
       "    <tr>\n",
       "      <td>biology</td>\n",
       "      <td>20000.0</td>\n",
       "      <td>0.11650</td>\n",
       "      <td>0.320832</td>\n",
       "      <td>0.0</td>\n",
       "      <td>0.00</td>\n",
       "      <td>0.0</td>\n",
       "      <td>0.00</td>\n",
       "      <td>1.0</td>\n",
       "    </tr>\n",
       "    <tr>\n",
       "      <td>chemistry</td>\n",
       "      <td>20000.0</td>\n",
       "      <td>0.12480</td>\n",
       "      <td>0.330500</td>\n",
       "      <td>0.0</td>\n",
       "      <td>0.00</td>\n",
       "      <td>0.0</td>\n",
       "      <td>0.00</td>\n",
       "      <td>1.0</td>\n",
       "    </tr>\n",
       "    <tr>\n",
       "      <td>choose</td>\n",
       "      <td>10000.0</td>\n",
       "      <td>0.11090</td>\n",
       "      <td>0.314024</td>\n",
       "      <td>0.0</td>\n",
       "      <td>0.00</td>\n",
       "      <td>0.0</td>\n",
       "      <td>0.00</td>\n",
       "      <td>1.0</td>\n",
       "    </tr>\n",
       "    <tr>\n",
       "      <td>english</td>\n",
       "      <td>20000.0</td>\n",
       "      <td>0.05405</td>\n",
       "      <td>0.226122</td>\n",
       "      <td>0.0</td>\n",
       "      <td>0.00</td>\n",
       "      <td>0.0</td>\n",
       "      <td>0.00</td>\n",
       "      <td>1.0</td>\n",
       "    </tr>\n",
       "    <tr>\n",
       "      <td>geography</td>\n",
       "      <td>20000.0</td>\n",
       "      <td>0.02845</td>\n",
       "      <td>0.166259</td>\n",
       "      <td>0.0</td>\n",
       "      <td>0.00</td>\n",
       "      <td>0.0</td>\n",
       "      <td>0.00</td>\n",
       "      <td>1.0</td>\n",
       "    </tr>\n",
       "    <tr>\n",
       "      <td>history</td>\n",
       "      <td>20000.0</td>\n",
       "      <td>0.01655</td>\n",
       "      <td>0.127581</td>\n",
       "      <td>0.0</td>\n",
       "      <td>0.00</td>\n",
       "      <td>0.0</td>\n",
       "      <td>0.00</td>\n",
       "      <td>1.0</td>\n",
       "    </tr>\n",
       "    <tr>\n",
       "      <td>lesson_price</td>\n",
       "      <td>20000.0</td>\n",
       "      <td>1701.17500</td>\n",
       "      <td>525.014430</td>\n",
       "      <td>200.0</td>\n",
       "      <td>1300.00</td>\n",
       "      <td>1550.0</td>\n",
       "      <td>2150.00</td>\n",
       "      <td>3950.0</td>\n",
       "    </tr>\n",
       "    <tr>\n",
       "      <td>mean_exam_points</td>\n",
       "      <td>20000.0</td>\n",
       "      <td>64.29230</td>\n",
       "      <td>13.582978</td>\n",
       "      <td>32.0</td>\n",
       "      <td>55.00</td>\n",
       "      <td>63.0</td>\n",
       "      <td>73.00</td>\n",
       "      <td>100.0</td>\n",
       "    </tr>\n",
       "    <tr>\n",
       "      <td>physics</td>\n",
       "      <td>20000.0</td>\n",
       "      <td>0.37135</td>\n",
       "      <td>0.483178</td>\n",
       "      <td>0.0</td>\n",
       "      <td>0.00</td>\n",
       "      <td>0.0</td>\n",
       "      <td>1.00</td>\n",
       "      <td>1.0</td>\n",
       "    </tr>\n",
       "    <tr>\n",
       "      <td>qualification</td>\n",
       "      <td>20000.0</td>\n",
       "      <td>1.71330</td>\n",
       "      <td>0.794314</td>\n",
       "      <td>1.0</td>\n",
       "      <td>1.00</td>\n",
       "      <td>2.0</td>\n",
       "      <td>2.00</td>\n",
       "      <td>4.0</td>\n",
       "    </tr>\n",
       "    <tr>\n",
       "      <td>years_of_experience</td>\n",
       "      <td>20000.0</td>\n",
       "      <td>1.98025</td>\n",
       "      <td>1.769016</td>\n",
       "      <td>0.0</td>\n",
       "      <td>0.00</td>\n",
       "      <td>2.0</td>\n",
       "      <td>3.00</td>\n",
       "      <td>9.0</td>\n",
       "    </tr>\n",
       "  </tbody>\n",
       "</table>\n",
       "</div>"
      ],
      "text/plain": [
       "                       count        mean          std    min      25%     50%  \\\n",
       "Id                   20000.0  9999.50000  5773.647028    0.0  4999.75  9999.5   \n",
       "age                  20000.0    45.86270     8.031163   23.0    40.00    46.0   \n",
       "biology              20000.0     0.11650     0.320832    0.0     0.00     0.0   \n",
       "chemistry            20000.0     0.12480     0.330500    0.0     0.00     0.0   \n",
       "choose               10000.0     0.11090     0.314024    0.0     0.00     0.0   \n",
       "english              20000.0     0.05405     0.226122    0.0     0.00     0.0   \n",
       "geography            20000.0     0.02845     0.166259    0.0     0.00     0.0   \n",
       "history              20000.0     0.01655     0.127581    0.0     0.00     0.0   \n",
       "lesson_price         20000.0  1701.17500   525.014430  200.0  1300.00  1550.0   \n",
       "mean_exam_points     20000.0    64.29230    13.582978   32.0    55.00    63.0   \n",
       "physics              20000.0     0.37135     0.483178    0.0     0.00     0.0   \n",
       "qualification        20000.0     1.71330     0.794314    1.0     1.00     2.0   \n",
       "years_of_experience  20000.0     1.98025     1.769016    0.0     0.00     2.0   \n",
       "\n",
       "                          75%      max  \n",
       "Id                   14999.25  19999.0  \n",
       "age                     51.00     68.0  \n",
       "biology                  0.00      1.0  \n",
       "chemistry                0.00      1.0  \n",
       "choose                   0.00      1.0  \n",
       "english                  0.00      1.0  \n",
       "geography                0.00      1.0  \n",
       "history                  0.00      1.0  \n",
       "lesson_price          2150.00   3950.0  \n",
       "mean_exam_points        73.00    100.0  \n",
       "physics                  1.00      1.0  \n",
       "qualification            2.00      4.0  \n",
       "years_of_experience      3.00      9.0  "
      ]
     },
     "execution_count": 45,
     "metadata": {},
     "output_type": "execute_result"
    }
   ],
   "source": [
    "df.describe().T"
   ]
  },
  {
   "cell_type": "markdown",
   "metadata": {},
   "source": [
    "Видим, что пропуски отсутствуют, категориальные признаки представлены числовыми значениями, явно выраженные выбросы также отсутствуют."
   ]
  },
  {
   "cell_type": "code",
   "execution_count": 9,
   "metadata": {},
   "outputs": [
    {
     "data": {
      "text/plain": [
       "['biology',\n",
       " 'chemistry',\n",
       " 'english',\n",
       " 'geography',\n",
       " 'history',\n",
       " 'physics',\n",
       " 'qualification',\n",
       " 'years_of_experience']"
      ]
     },
     "execution_count": 9,
     "metadata": {},
     "output_type": "execute_result"
    }
   ],
   "source": [
    "discrete_feature = [\n",
    "    feature for feature in df.select_dtypes(include=[np.number])\n",
    "    if len(df[feature].unique())<25 and feature != 'choose'\n",
    "]\n",
    "discrete_feature"
   ]
  },
  {
   "cell_type": "markdown",
   "metadata": {},
   "source": [
    "Посмотрим распределение среднего значения целевой переменной в группировке по дискретным признакам"
   ]
  },
  {
   "cell_type": "code",
   "execution_count": 10,
   "metadata": {},
   "outputs": [
    {
     "data": {
      "image/png": "[encoded data removed]",
      "text/plain": [
       "<Figure size 1800x1440 with 8 Axes>"
      ]
     },
     "metadata": {
      "needs_background": "light"
     },
     "output_type": "display_data"
    }
   ],
   "source": [
    "ig, axes = plt.subplots(2, 4, figsize=(25, 20))\n",
    "\n",
    "for num, feature in enumerate(discrete_feature):\n",
    "    data = train_data.copy()\n",
    "    statistics = data.groupby([feature])[\"choose\"].mean()\n",
    "\n",
    "    sns.barplot(\n",
    "        x=statistics.index,\n",
    "        y=statistics.values,\n",
    "        palette=\"viridis\",\n",
    "        ax=axes[num%2, num//2]\n",
    "    )"
   ]
  },
  {
   "cell_type": "markdown",
   "metadata": {},
   "source": [
    "Также посмотрим распределение значений дискретных признаков для значений 0 и 1 целевой переменной"
   ]
  },
  {
   "cell_type": "code",
   "execution_count": 11,
   "metadata": {},
   "outputs": [
    {
     "data": {
      "image/png": "[encoded data removed]",
      "text/plain": [
       "<Figure size 1800x1440 with 16 Axes>"
      ]
     },
     "metadata": {
      "needs_background": "light"
     },
     "output_type": "display_data"
    }
   ],
   "source": [
    "ig, axes = plt.subplots(8, 2, figsize=(25, 20))\n",
    "\n",
    "for num, feature in enumerate(discrete_feature):\n",
    "    data = df[df['choose'] == 0].copy()\n",
    "    axes[num, 0].hist(data[feature])\n",
    "    axes[num, 0].set_ylabel(feature)\n",
    "\n",
    "for num, feature in enumerate(discrete_feature):\n",
    "    data = df[df['choose'] == 1].copy()\n",
    "    axes[num, 1].hist(data[feature])\n",
    "    axes[num, 1].set_ylabel(feature)"
   ]
  },
  {
   "cell_type": "markdown",
   "metadata": {},
   "source": [
    "И распределение значений дискретных признаков на трейне и тесте"
   ]
  },
  {
   "cell_type": "code",
   "execution_count": 12,
   "metadata": {},
   "outputs": [
    {
     "data": {
      "image/png": "[encoded data removed]",
      "text/plain": [
       "<Figure size 1800x1440 with 16 Axes>"
      ]
     },
     "metadata": {
      "needs_background": "light"
     },
     "output_type": "display_data"
    }
   ],
   "source": [
    "ig, axes = plt.subplots(8, 2, figsize=(25, 20))\n",
    "\n",
    "for num, feature in enumerate(discrete_feature):\n",
    "    data = df[np.isnan(df.choose)==False].copy()\n",
    "    axes[num, 0].hist(data[feature])\n",
    "    axes[num, 0].set_ylabel(feature)\n",
    "\n",
    "for num, feature in enumerate(discrete_feature):\n",
    "    data = df[np.isnan(df.choose)==True].copy()\n",
    "    axes[num, 1].hist(data[feature])\n",
    "    axes[num, 1].set_ylabel(feature)"
   ]
  },
  {
   "cell_type": "markdown",
   "metadata": {},
   "source": [
    "Видим, что из трех показателей, относящихся к предметам, влияние оказывает только физика."
   ]
  },
  {
   "cell_type": "code",
   "execution_count": 13,
   "metadata": {},
   "outputs": [
    {
     "data": {
      "text/html": [
       "<div>\n",
       "<style scoped>\n",
       "    .dataframe tbody tr th:only-of-type {\n",
       "        vertical-align: middle;\n",
       "    }\n",
       "\n",
       "    .dataframe tbody tr th {\n",
       "        vertical-align: top;\n",
       "    }\n",
       "\n",
       "    .dataframe thead tr th {\n",
       "        text-align: left;\n",
       "    }\n",
       "</style>\n",
       "<table border=\"1\" class=\"dataframe\">\n",
       "  <thead>\n",
       "    <tr>\n",
       "      <th></th>\n",
       "      <th>qualification</th>\n",
       "      <th colspan=\"2\" halign=\"left\">choose</th>\n",
       "    </tr>\n",
       "    <tr>\n",
       "      <th></th>\n",
       "      <th></th>\n",
       "      <th>mean</th>\n",
       "      <th>count</th>\n",
       "    </tr>\n",
       "  </thead>\n",
       "  <tbody>\n",
       "    <tr>\n",
       "      <td>0</td>\n",
       "      <td>1.0</td>\n",
       "      <td>0.103046</td>\n",
       "      <td>4891</td>\n",
       "    </tr>\n",
       "    <tr>\n",
       "      <td>1</td>\n",
       "      <td>2.0</td>\n",
       "      <td>0.104517</td>\n",
       "      <td>3033</td>\n",
       "    </tr>\n",
       "    <tr>\n",
       "      <td>2</td>\n",
       "      <td>3.0</td>\n",
       "      <td>0.134787</td>\n",
       "      <td>2018</td>\n",
       "    </tr>\n",
       "    <tr>\n",
       "      <td>3</td>\n",
       "      <td>4.0</td>\n",
       "      <td>0.275862</td>\n",
       "      <td>58</td>\n",
       "    </tr>\n",
       "  </tbody>\n",
       "</table>\n",
       "</div>"
      ],
      "text/plain": [
       "  qualification    choose      \n",
       "                     mean count\n",
       "0           1.0  0.103046  4891\n",
       "1           2.0  0.104517  3033\n",
       "2           3.0  0.134787  2018\n",
       "3           4.0  0.275862    58"
      ]
     },
     "execution_count": 13,
     "metadata": {},
     "output_type": "execute_result"
    }
   ],
   "source": [
    "df.groupby(['qualification'], as_index=False).agg({'choose':['mean', 'count']})"
   ]
  },
  {
   "cell_type": "markdown",
   "metadata": {},
   "source": [
    "Значений для qualification = 4 очень мало, объединим их со значениями 3. Хотя для qualification = 4 доля целевых значений выше, но тесты показали, что с объединенными значениями значение метрики получается выше."
   ]
  },
  {
   "cell_type": "code",
   "execution_count": 46,
   "metadata": {},
   "outputs": [],
   "source": [
    "df['qualification2'] = df['qualification'].apply(lambda x: min(x, 3))"
   ]
  },
  {
   "cell_type": "markdown",
   "metadata": {},
   "source": [
    "Так как их общих соображений очевидно, что на цену урока влияет уровень квалификации преподавателя, очистим показатель lesson_price от этого влияния, разделив на значение медианы цены урока в разрезе каждого уровны квалификации.\n",
    "Так же из общих соображений можно было бы тем же методом очистить от влияния стажа, но тесты показывают, что в этом случае модель начинает работать хуже. Поэтому оставляет только отношение lesson_price к медиане по qualification, и отдельно переменную years_of_experience."
   ]
  },
  {
   "cell_type": "code",
   "execution_count": 47,
   "metadata": {},
   "outputs": [
    {
     "data": {
      "text/html": [
       "<div>\n",
       "<style scoped>\n",
       "    .dataframe tbody tr th:only-of-type {\n",
       "        vertical-align: middle;\n",
       "    }\n",
       "\n",
       "    .dataframe tbody tr th {\n",
       "        vertical-align: top;\n",
       "    }\n",
       "\n",
       "    .dataframe thead th {\n",
       "        text-align: right;\n",
       "    }\n",
       "</style>\n",
       "<table border=\"1\" class=\"dataframe\">\n",
       "  <thead>\n",
       "    <tr style=\"text-align: right;\">\n",
       "      <th></th>\n",
       "      <th>qualification</th>\n",
       "      <th>qualif_lesson_price_median</th>\n",
       "    </tr>\n",
       "  </thead>\n",
       "  <tbody>\n",
       "    <tr>\n",
       "      <td>0</td>\n",
       "      <td>1.0</td>\n",
       "      <td>1350.0</td>\n",
       "    </tr>\n",
       "    <tr>\n",
       "      <td>1</td>\n",
       "      <td>2.0</td>\n",
       "      <td>1750.0</td>\n",
       "    </tr>\n",
       "    <tr>\n",
       "      <td>2</td>\n",
       "      <td>3.0</td>\n",
       "      <td>2350.0</td>\n",
       "    </tr>\n",
       "    <tr>\n",
       "      <td>3</td>\n",
       "      <td>4.0</td>\n",
       "      <td>2400.0</td>\n",
       "    </tr>\n",
       "  </tbody>\n",
       "</table>\n",
       "</div>"
      ],
      "text/plain": [
       "   qualification  qualif_lesson_price_median\n",
       "0            1.0                      1350.0\n",
       "1            2.0                      1750.0\n",
       "2            3.0                      2350.0\n",
       "3            4.0                      2400.0"
      ]
     },
     "execution_count": 47,
     "metadata": {},
     "output_type": "execute_result"
    }
   ],
   "source": [
    "df2 = df.groupby(['qualification'], as_index=False).agg({'lesson_price':'median'})\n",
    "df2.rename(columns={'lesson_price': 'qualif_lesson_price_median'} , inplace=True)\n",
    "df2"
   ]
  },
  {
   "cell_type": "code",
   "execution_count": 48,
   "metadata": {},
   "outputs": [],
   "source": [
    "df = df.merge(df2, on='qualification', how='left')\n",
    "df['qualif_lesson_price'] = df.lesson_price/df.qualif_lesson_price_median"
   ]
  },
  {
   "cell_type": "markdown",
   "metadata": {},
   "source": [
    "Исслдуем mean_exam_points"
   ]
  },
  {
   "cell_type": "code",
   "execution_count": 49,
   "metadata": {},
   "outputs": [
    {
     "data": {
      "text/html": [
       "<div>\n",
       "<style scoped>\n",
       "    .dataframe tbody tr th:only-of-type {\n",
       "        vertical-align: middle;\n",
       "    }\n",
       "\n",
       "    .dataframe tbody tr th {\n",
       "        vertical-align: top;\n",
       "    }\n",
       "\n",
       "    .dataframe thead tr th {\n",
       "        text-align: left;\n",
       "    }\n",
       "</style>\n",
       "<table border=\"1\" class=\"dataframe\">\n",
       "  <thead>\n",
       "    <tr>\n",
       "      <th></th>\n",
       "      <th>choose</th>\n",
       "      <th colspan=\"3\" halign=\"left\">mean_exam_points</th>\n",
       "    </tr>\n",
       "    <tr>\n",
       "      <th></th>\n",
       "      <th></th>\n",
       "      <th>median</th>\n",
       "      <th>mean</th>\n",
       "      <th>std</th>\n",
       "    </tr>\n",
       "  </thead>\n",
       "  <tbody>\n",
       "    <tr>\n",
       "      <td>0</td>\n",
       "      <td>0.0</td>\n",
       "      <td>63.0</td>\n",
       "      <td>63.909909</td>\n",
       "      <td>13.735075</td>\n",
       "    </tr>\n",
       "    <tr>\n",
       "      <td>1</td>\n",
       "      <td>1.0</td>\n",
       "      <td>67.0</td>\n",
       "      <td>68.646528</td>\n",
       "      <td>11.589451</td>\n",
       "    </tr>\n",
       "  </tbody>\n",
       "</table>\n",
       "</div>"
      ],
      "text/plain": [
       "  choose mean_exam_points                      \n",
       "                   median       mean        std\n",
       "0    0.0             63.0  63.909909  13.735075\n",
       "1    1.0             67.0  68.646528  11.589451"
      ]
     },
     "execution_count": 49,
     "metadata": {},
     "output_type": "execute_result"
    }
   ],
   "source": [
    "df.groupby(['choose'], as_index=False).agg({'mean_exam_points':['median','mean', 'std']})"
   ]
  },
  {
   "cell_type": "code",
   "execution_count": 50,
   "metadata": {},
   "outputs": [
    {
     "data": {
      "text/plain": [
       "<matplotlib.axes._subplots.AxesSubplot at 0x19542fdc608>"
      ]
     },
     "execution_count": 50,
     "metadata": {},
     "output_type": "execute_result"
    },
    {
     "data": {
      "image/png": "[encoded data removed]",
      "text/plain": [
       "<Figure size 432x288 with 1 Axes>"
      ]
     },
     "metadata": {
      "needs_background": "light"
     },
     "output_type": "display_data"
    }
   ],
   "source": [
    "df.mean_exam_points.hist()"
   ]
  },
  {
   "cell_type": "code",
   "execution_count": 51,
   "metadata": {},
   "outputs": [
    {
     "data": {
      "text/plain": [
       "<matplotlib.collections.PathCollection at 0x19544281608>"
      ]
     },
     "execution_count": 51,
     "metadata": {},
     "output_type": "execute_result"
    },
    {
     "data": {
      "image/png": "[encoded data removed]",
      "text/plain": [
       "<Figure size 432x288 with 1 Axes>"
      ]
     },
     "metadata": {
      "needs_background": "light"
     },
     "output_type": "display_data"
    }
   ],
   "source": [
    "plt.scatter(df.lesson_price, df.mean_exam_points)"
   ]
  },
  {
   "cell_type": "code",
   "execution_count": 52,
   "metadata": {},
   "outputs": [
    {
     "data": {
      "text/html": [
       "<div>\n",
       "<style scoped>\n",
       "    .dataframe tbody tr th:only-of-type {\n",
       "        vertical-align: middle;\n",
       "    }\n",
       "\n",
       "    .dataframe tbody tr th {\n",
       "        vertical-align: top;\n",
       "    }\n",
       "\n",
       "    .dataframe thead th {\n",
       "        text-align: right;\n",
       "    }\n",
       "</style>\n",
       "<table border=\"1\" class=\"dataframe\">\n",
       "  <thead>\n",
       "    <tr style=\"text-align: right;\">\n",
       "      <th></th>\n",
       "      <th>qualification</th>\n",
       "      <th>qualif_mean_exam_points_median</th>\n",
       "    </tr>\n",
       "  </thead>\n",
       "  <tbody>\n",
       "    <tr>\n",
       "      <td>0</td>\n",
       "      <td>1.0</td>\n",
       "      <td>57.0</td>\n",
       "    </tr>\n",
       "    <tr>\n",
       "      <td>1</td>\n",
       "      <td>2.0</td>\n",
       "      <td>66.0</td>\n",
       "    </tr>\n",
       "    <tr>\n",
       "      <td>2</td>\n",
       "      <td>3.0</td>\n",
       "      <td>84.0</td>\n",
       "    </tr>\n",
       "    <tr>\n",
       "      <td>3</td>\n",
       "      <td>4.0</td>\n",
       "      <td>84.0</td>\n",
       "    </tr>\n",
       "  </tbody>\n",
       "</table>\n",
       "</div>"
      ],
      "text/plain": [
       "   qualification  qualif_mean_exam_points_median\n",
       "0            1.0                            57.0\n",
       "1            2.0                            66.0\n",
       "2            3.0                            84.0\n",
       "3            4.0                            84.0"
      ]
     },
     "execution_count": 52,
     "metadata": {},
     "output_type": "execute_result"
    }
   ],
   "source": [
    "df3 = df.groupby(['qualification'], as_index=False).agg({'mean_exam_points':'median'})\n",
    "df3.rename(columns={'mean_exam_points': 'qualif_mean_exam_points_median'} , inplace=True)\n",
    "df3"
   ]
  },
  {
   "cell_type": "code",
   "execution_count": 53,
   "metadata": {},
   "outputs": [],
   "source": [
    "df = df.merge(df3, on='qualification', how='left')\n",
    "df['qualif_mean_exam_points'] = df.mean_exam_points/df.qualif_mean_exam_points_median"
   ]
  },
  {
   "cell_type": "code",
   "execution_count": 54,
   "metadata": {},
   "outputs": [],
   "source": [
    "df['qualif_mean_exam_points_10'] = df.qualif_mean_exam_points.apply(lambda x: round(x/10, 0))"
   ]
  },
  {
   "cell_type": "markdown",
   "metadata": {},
   "source": [
    "Распереление mean_exam_points напоминает нормальное и коррелирует с lesson_price. Тесты показали, что модель лучше работает со значениями округленными до 10."
   ]
  },
  {
   "cell_type": "code",
   "execution_count": 23,
   "metadata": {},
   "outputs": [],
   "source": [
    "df['mean_exam_points_10'] = df.mean_exam_points.apply(lambda x: round(x/10, 0))"
   ]
  },
  {
   "cell_type": "code",
   "execution_count": 24,
   "metadata": {},
   "outputs": [
    {
     "data": {
      "text/html": [
       "<div>\n",
       "<style scoped>\n",
       "    .dataframe tbody tr th:only-of-type {\n",
       "        vertical-align: middle;\n",
       "    }\n",
       "\n",
       "    .dataframe tbody tr th {\n",
       "        vertical-align: top;\n",
       "    }\n",
       "\n",
       "    .dataframe thead th {\n",
       "        text-align: right;\n",
       "    }\n",
       "</style>\n",
       "<table border=\"1\" class=\"dataframe\">\n",
       "  <thead>\n",
       "    <tr style=\"text-align: right;\">\n",
       "      <th></th>\n",
       "      <th>mean_exam_points_10</th>\n",
       "      <th>choose</th>\n",
       "    </tr>\n",
       "  </thead>\n",
       "  <tbody>\n",
       "    <tr>\n",
       "      <td>0</td>\n",
       "      <td>3.0</td>\n",
       "      <td>0.000000</td>\n",
       "    </tr>\n",
       "    <tr>\n",
       "      <td>1</td>\n",
       "      <td>4.0</td>\n",
       "      <td>0.003759</td>\n",
       "    </tr>\n",
       "    <tr>\n",
       "      <td>2</td>\n",
       "      <td>5.0</td>\n",
       "      <td>0.057199</td>\n",
       "    </tr>\n",
       "    <tr>\n",
       "      <td>3</td>\n",
       "      <td>6.0</td>\n",
       "      <td>0.126825</td>\n",
       "    </tr>\n",
       "    <tr>\n",
       "      <td>4</td>\n",
       "      <td>7.0</td>\n",
       "      <td>0.149075</td>\n",
       "    </tr>\n",
       "    <tr>\n",
       "      <td>5</td>\n",
       "      <td>8.0</td>\n",
       "      <td>0.105194</td>\n",
       "    </tr>\n",
       "    <tr>\n",
       "      <td>6</td>\n",
       "      <td>9.0</td>\n",
       "      <td>0.166038</td>\n",
       "    </tr>\n",
       "    <tr>\n",
       "      <td>7</td>\n",
       "      <td>10.0</td>\n",
       "      <td>0.244898</td>\n",
       "    </tr>\n",
       "  </tbody>\n",
       "</table>\n",
       "</div>"
      ],
      "text/plain": [
       "   mean_exam_points_10    choose\n",
       "0                  3.0  0.000000\n",
       "1                  4.0  0.003759\n",
       "2                  5.0  0.057199\n",
       "3                  6.0  0.126825\n",
       "4                  7.0  0.149075\n",
       "5                  8.0  0.105194\n",
       "6                  9.0  0.166038\n",
       "7                 10.0  0.244898"
      ]
     },
     "execution_count": 24,
     "metadata": {},
     "output_type": "execute_result"
    }
   ],
   "source": [
    "df.groupby(['mean_exam_points_10'], as_index=False).agg({'choose':'mean'})"
   ]
  },
  {
   "cell_type": "markdown",
   "metadata": {},
   "source": [
    "Существенного влияния показатель \"возраст\" на модель не обнаружено, поэтому далее он не используется"
   ]
  },
  {
   "cell_type": "code",
   "execution_count": 25,
   "metadata": {},
   "outputs": [
    {
     "data": {
      "text/html": [
       "<div>\n",
       "<style scoped>\n",
       "    .dataframe tbody tr th:only-of-type {\n",
       "        vertical-align: middle;\n",
       "    }\n",
       "\n",
       "    .dataframe tbody tr th {\n",
       "        vertical-align: top;\n",
       "    }\n",
       "\n",
       "    .dataframe thead tr th {\n",
       "        text-align: left;\n",
       "    }\n",
       "</style>\n",
       "<table border=\"1\" class=\"dataframe\">\n",
       "  <thead>\n",
       "    <tr>\n",
       "      <th></th>\n",
       "      <th>choose</th>\n",
       "      <th colspan=\"3\" halign=\"left\">age</th>\n",
       "    </tr>\n",
       "    <tr>\n",
       "      <th></th>\n",
       "      <th></th>\n",
       "      <th>median</th>\n",
       "      <th>mean</th>\n",
       "      <th>std</th>\n",
       "    </tr>\n",
       "  </thead>\n",
       "  <tbody>\n",
       "    <tr>\n",
       "      <td>0</td>\n",
       "      <td>0.0</td>\n",
       "      <td>46.0</td>\n",
       "      <td>45.752221</td>\n",
       "      <td>8.025319</td>\n",
       "    </tr>\n",
       "    <tr>\n",
       "      <td>1</td>\n",
       "      <td>1.0</td>\n",
       "      <td>46.0</td>\n",
       "      <td>46.191163</td>\n",
       "      <td>8.062900</td>\n",
       "    </tr>\n",
       "  </tbody>\n",
       "</table>\n",
       "</div>"
      ],
      "text/plain": [
       "  choose    age                     \n",
       "         median       mean       std\n",
       "0    0.0   46.0  45.752221  8.025319\n",
       "1    1.0   46.0  46.191163  8.062900"
      ]
     },
     "execution_count": 25,
     "metadata": {},
     "output_type": "execute_result"
    }
   ],
   "source": [
    "df.groupby(['choose'], as_index=False).agg({'age':['median','mean', 'std']})"
   ]
  },
  {
   "cell_type": "code",
   "execution_count": 26,
   "metadata": {},
   "outputs": [
    {
     "data": {
      "text/plain": [
       "<matplotlib.collections.PathCollection at 0x19542616988>"
      ]
     },
     "execution_count": 26,
     "metadata": {},
     "output_type": "execute_result"
    },
    {
     "data": {
      "image/png": "[encoded data removed]",
      "text/plain": [
       "<Figure size 432x288 with 1 Axes>"
      ]
     },
     "metadata": {
      "needs_background": "light"
     },
     "output_type": "display_data"
    }
   ],
   "source": [
    "plt.scatter(df.age, df.choose)"
   ]
  },
  {
   "cell_type": "markdown",
   "metadata": {},
   "source": [
    "Аналогично не оказывают существенное влияние показатели, относящиеся ко всем предметам, кроме физики."
   ]
  },
  {
   "cell_type": "code",
   "execution_count": 27,
   "metadata": {},
   "outputs": [
    {
     "data": {
      "image/png": "[encoded data removed]",
      "text/plain": [
       "<Figure size 864x288 with 4 Axes>"
      ]
     },
     "metadata": {
      "needs_background": "light"
     },
     "output_type": "display_data"
    }
   ],
   "source": [
    "fig, axes = plt.subplots(1, 4, figsize=(12, 4))\n",
    "\n",
    "for num, feature in enumerate(['lesson_price','mean_exam_points','qualif_lesson_price','qualif_mean_exam_points']):\n",
    "    try:\n",
    "        train, test = df.loc[np.isnan(df.choose)==False, feature].copy(), df.loc[np.isnan(df.choose)==True, feature].copy()\n",
    "        sns.kdeplot(train, ax=axes[num%4], color=\"blue\", label=\"train\")\n",
    "        sns.kdeplot(test, ax=axes[num%4], color=\"green\", label=\"test\")\n",
    "    except RuntimeError:\n",
    "        pass\n",
    "    except KeyError:\n",
    "        train = df.loc[np.isnan(df.choose)==False, feature].copy()\n",
    "        sns.kdeplot(train, ax=axes[num%4], color=\"blue\", label=\"train\")\n",
    "    axes[num%4].set_title(feature, fontsize=10)"
   ]
  },
  {
   "cell_type": "markdown",
   "metadata": {},
   "source": [
    "Видим, что распределение непрерывных показателей практически совпадает для трейна и теста. За счет нормирования на квалицикацию удается сгладить график, убрав \"горбик\". Однако тесты показали, что если применение qualif_lesson_price вместо lesson_price приводит к улучшению модели, то замена mean_exam_points на qualif_mean_exam_points приводит к ее ухудшению"
   ]
  },
  {
   "cell_type": "code",
   "execution_count": 28,
   "metadata": {},
   "outputs": [
    {
     "data": {
      "text/html": [
       "<div>\n",
       "<style scoped>\n",
       "    .dataframe tbody tr th:only-of-type {\n",
       "        vertical-align: middle;\n",
       "    }\n",
       "\n",
       "    .dataframe tbody tr th {\n",
       "        vertical-align: top;\n",
       "    }\n",
       "\n",
       "    .dataframe thead th {\n",
       "        text-align: right;\n",
       "    }\n",
       "</style>\n",
       "<table border=\"1\" class=\"dataframe\">\n",
       "  <thead>\n",
       "    <tr style=\"text-align: right;\">\n",
       "      <th></th>\n",
       "      <th>Id</th>\n",
       "      <th>age</th>\n",
       "      <th>biology</th>\n",
       "      <th>chemistry</th>\n",
       "      <th>choose</th>\n",
       "      <th>english</th>\n",
       "      <th>geography</th>\n",
       "      <th>history</th>\n",
       "      <th>lesson_price</th>\n",
       "      <th>mean_exam_points</th>\n",
       "      <th>physics</th>\n",
       "      <th>qualification</th>\n",
       "      <th>years_of_experience</th>\n",
       "      <th>qualification2</th>\n",
       "      <th>qualif_lesson_price_median</th>\n",
       "      <th>qualif_lesson_price</th>\n",
       "      <th>qualif_mean_exam_points_median</th>\n",
       "      <th>qualif_mean_exam_points</th>\n",
       "      <th>qualif_mean_exam_points_10</th>\n",
       "      <th>mean_exam_points_10</th>\n",
       "    </tr>\n",
       "  </thead>\n",
       "  <tbody>\n",
       "    <tr>\n",
       "      <td>0</td>\n",
       "      <td>0</td>\n",
       "      <td>35.0</td>\n",
       "      <td>0.0</td>\n",
       "      <td>0.0</td>\n",
       "      <td>0.0</td>\n",
       "      <td>0.0</td>\n",
       "      <td>0.0</td>\n",
       "      <td>0.0</td>\n",
       "      <td>2150.0</td>\n",
       "      <td>74.0</td>\n",
       "      <td>0.0</td>\n",
       "      <td>2.0</td>\n",
       "      <td>0.0</td>\n",
       "      <td>2.0</td>\n",
       "      <td>1750.0</td>\n",
       "      <td>1.228571</td>\n",
       "      <td>66.0</td>\n",
       "      <td>1.121212</td>\n",
       "      <td>0.0</td>\n",
       "      <td>7.0</td>\n",
       "    </tr>\n",
       "    <tr>\n",
       "      <td>1</td>\n",
       "      <td>1</td>\n",
       "      <td>52.0</td>\n",
       "      <td>1.0</td>\n",
       "      <td>0.0</td>\n",
       "      <td>1.0</td>\n",
       "      <td>0.0</td>\n",
       "      <td>0.0</td>\n",
       "      <td>1.0</td>\n",
       "      <td>1250.0</td>\n",
       "      <td>57.0</td>\n",
       "      <td>1.0</td>\n",
       "      <td>2.0</td>\n",
       "      <td>2.0</td>\n",
       "      <td>2.0</td>\n",
       "      <td>1750.0</td>\n",
       "      <td>0.714286</td>\n",
       "      <td>66.0</td>\n",
       "      <td>0.863636</td>\n",
       "      <td>0.0</td>\n",
       "      <td>6.0</td>\n",
       "    </tr>\n",
       "    <tr>\n",
       "      <td>2</td>\n",
       "      <td>2</td>\n",
       "      <td>29.0</td>\n",
       "      <td>0.0</td>\n",
       "      <td>0.0</td>\n",
       "      <td>0.0</td>\n",
       "      <td>0.0</td>\n",
       "      <td>0.0</td>\n",
       "      <td>0.0</td>\n",
       "      <td>1750.0</td>\n",
       "      <td>66.0</td>\n",
       "      <td>1.0</td>\n",
       "      <td>1.0</td>\n",
       "      <td>3.0</td>\n",
       "      <td>1.0</td>\n",
       "      <td>1350.0</td>\n",
       "      <td>1.296296</td>\n",
       "      <td>57.0</td>\n",
       "      <td>1.157895</td>\n",
       "      <td>0.0</td>\n",
       "      <td>7.0</td>\n",
       "    </tr>\n",
       "    <tr>\n",
       "      <td>3</td>\n",
       "      <td>3</td>\n",
       "      <td>33.0</td>\n",
       "      <td>0.0</td>\n",
       "      <td>0.0</td>\n",
       "      <td>1.0</td>\n",
       "      <td>0.0</td>\n",
       "      <td>0.0</td>\n",
       "      <td>0.0</td>\n",
       "      <td>1050.0</td>\n",
       "      <td>66.0</td>\n",
       "      <td>0.0</td>\n",
       "      <td>1.0</td>\n",
       "      <td>3.0</td>\n",
       "      <td>1.0</td>\n",
       "      <td>1350.0</td>\n",
       "      <td>0.777778</td>\n",
       "      <td>57.0</td>\n",
       "      <td>1.157895</td>\n",
       "      <td>0.0</td>\n",
       "      <td>7.0</td>\n",
       "    </tr>\n",
       "    <tr>\n",
       "      <td>4</td>\n",
       "      <td>4</td>\n",
       "      <td>46.0</td>\n",
       "      <td>0.0</td>\n",
       "      <td>0.0</td>\n",
       "      <td>0.0</td>\n",
       "      <td>0.0</td>\n",
       "      <td>0.0</td>\n",
       "      <td>0.0</td>\n",
       "      <td>2250.0</td>\n",
       "      <td>73.0</td>\n",
       "      <td>1.0</td>\n",
       "      <td>2.0</td>\n",
       "      <td>3.0</td>\n",
       "      <td>2.0</td>\n",
       "      <td>1750.0</td>\n",
       "      <td>1.285714</td>\n",
       "      <td>66.0</td>\n",
       "      <td>1.106061</td>\n",
       "      <td>0.0</td>\n",
       "      <td>7.0</td>\n",
       "    </tr>\n",
       "  </tbody>\n",
       "</table>\n",
       "</div>"
      ],
      "text/plain": [
       "   Id   age  biology  chemistry  choose  english  geography  history  \\\n",
       "0   0  35.0      0.0        0.0     0.0      0.0        0.0      0.0   \n",
       "1   1  52.0      1.0        0.0     1.0      0.0        0.0      1.0   \n",
       "2   2  29.0      0.0        0.0     0.0      0.0        0.0      0.0   \n",
       "3   3  33.0      0.0        0.0     1.0      0.0        0.0      0.0   \n",
       "4   4  46.0      0.0        0.0     0.0      0.0        0.0      0.0   \n",
       "\n",
       "   lesson_price  mean_exam_points  physics  qualification  \\\n",
       "0        2150.0              74.0      0.0            2.0   \n",
       "1        1250.0              57.0      1.0            2.0   \n",
       "2        1750.0              66.0      1.0            1.0   \n",
       "3        1050.0              66.0      0.0            1.0   \n",
       "4        2250.0              73.0      1.0            2.0   \n",
       "\n",
       "   years_of_experience  qualification2  qualif_lesson_price_median  \\\n",
       "0                  0.0             2.0                      1750.0   \n",
       "1                  2.0             2.0                      1750.0   \n",
       "2                  3.0             1.0                      1350.0   \n",
       "3                  3.0             1.0                      1350.0   \n",
       "4                  3.0             2.0                      1750.0   \n",
       "\n",
       "   qualif_lesson_price  qualif_mean_exam_points_median  \\\n",
       "0             1.228571                            66.0   \n",
       "1             0.714286                            66.0   \n",
       "2             1.296296                            57.0   \n",
       "3             0.777778                            57.0   \n",
       "4             1.285714                            66.0   \n",
       "\n",
       "   qualif_mean_exam_points  qualif_mean_exam_points_10  mean_exam_points_10  \n",
       "0                 1.121212                         0.0                  7.0  \n",
       "1                 0.863636                         0.0                  6.0  \n",
       "2                 1.157895                         0.0                  7.0  \n",
       "3                 1.157895                         0.0                  7.0  \n",
       "4                 1.106061                         0.0                  7.0  "
      ]
     },
     "execution_count": 28,
     "metadata": {},
     "output_type": "execute_result"
    }
   ],
   "source": [
    "df.head()"
   ]
  },
  {
   "cell_type": "markdown",
   "metadata": {},
   "source": [
    "### Обучение модели"
   ]
  },
  {
   "cell_type": "markdown",
   "metadata": {},
   "source": [
    "Ниже представлены параметры, при которых модель показала наилучший результат"
   ]
  },
  {
   "cell_type": "code",
   "execution_count": 29,
   "metadata": {},
   "outputs": [],
   "source": [
    "feature_names = [\n",
    " 'physics',\n",
    " 'qualification2',\n",
    " 'qualif_lesson_price_median',\n",
    " 'qualif_lesson_price',  \n",
    " 'mean_exam_points_10'\n",
    "]\n",
    "\n",
    "target_name = 'choose'"
   ]
  },
  {
   "cell_type": "code",
   "execution_count": 30,
   "metadata": {},
   "outputs": [],
   "source": [
    "X = df.loc[np.isnan(df.choose)==False, feature_names]\n",
    "y = df.loc[np.isnan(df.choose)==False, target_name]"
   ]
  },
  {
   "cell_type": "code",
   "execution_count": 31,
   "metadata": {},
   "outputs": [],
   "source": [
    "X_train, X_valid, y_train, y_valid = train_test_split(X, y, test_size=0.3, random_state=42)"
   ]
  },
  {
   "cell_type": "code",
   "execution_count": 36,
   "metadata": {},
   "outputs": [
    {
     "data": {
      "text/plain": [
       "<__main__.OurRandomForestRegressor at 0x1954358a4c8>"
      ]
     },
     "execution_count": 36,
     "metadata": {},
     "output_type": "execute_result"
    }
   ],
   "source": [
    "random.seed(42)\n",
    "\n",
    "# Число деревьев в ансамбле\n",
    "n_trees = 360\n",
    "\n",
    "\n",
    "# Максимальная глубина деревьев\n",
    "max_depth = 6\n",
    "\n",
    "\n",
    "OurRFR = OurRandomForestRegressor(n_trees, max_depth)\n",
    "OurRFR.fit(X_train.values, y_train.values)\n"
   ]
  },
  {
   "cell_type": "code",
   "execution_count": 39,
   "metadata": {},
   "outputs": [],
   "source": [
    "y_pred = OurRFR.predict(X_valid.values)\n",
    "y_pred_train = OurRFR.predict(X_train.values)"
   ]
  },
  {
   "cell_type": "code",
   "execution_count": 40,
   "metadata": {},
   "outputs": [
    {
     "data": {
      "text/plain": [
       "(0.8515348208248817, 0.8478587314373774)"
      ]
     },
     "execution_count": 40,
     "metadata": {},
     "output_type": "execute_result"
    }
   ],
   "source": [
    "(my_roc_auc_score(y_true = y_train, y_score = y_pred_train), my_roc_auc_score(y_valid, y_pred))"
   ]
  },
  {
   "cell_type": "code",
   "execution_count": null,
   "metadata": {},
   "outputs": [],
   "source": [
    "(0.8515348208248817, 0.8478587314373774)"
   ]
  },
  {
   "cell_type": "markdown",
   "metadata": {},
   "source": [
    "### Выгрузка результатов"
   ]
  },
  {
   "cell_type": "code",
   "execution_count": 41,
   "metadata": {},
   "outputs": [
    {
     "data": {
      "text/html": [
       "<div>\n",
       "<style scoped>\n",
       "    .dataframe tbody tr th:only-of-type {\n",
       "        vertical-align: middle;\n",
       "    }\n",
       "\n",
       "    .dataframe tbody tr th {\n",
       "        vertical-align: top;\n",
       "    }\n",
       "\n",
       "    .dataframe thead th {\n",
       "        text-align: right;\n",
       "    }\n",
       "</style>\n",
       "<table border=\"1\" class=\"dataframe\">\n",
       "  <thead>\n",
       "    <tr style=\"text-align: right;\">\n",
       "      <th></th>\n",
       "      <th>Id</th>\n",
       "      <th>choose</th>\n",
       "    </tr>\n",
       "  </thead>\n",
       "  <tbody>\n",
       "    <tr>\n",
       "      <td>10000</td>\n",
       "      <td>10000</td>\n",
       "      <td>0.012232</td>\n",
       "    </tr>\n",
       "    <tr>\n",
       "      <td>10001</td>\n",
       "      <td>10001</td>\n",
       "      <td>0.120729</td>\n",
       "    </tr>\n",
       "    <tr>\n",
       "      <td>10002</td>\n",
       "      <td>10002</td>\n",
       "      <td>0.015954</td>\n",
       "    </tr>\n",
       "    <tr>\n",
       "      <td>10003</td>\n",
       "      <td>10003</td>\n",
       "      <td>0.009565</td>\n",
       "    </tr>\n",
       "    <tr>\n",
       "      <td>10004</td>\n",
       "      <td>10004</td>\n",
       "      <td>0.262765</td>\n",
       "    </tr>\n",
       "  </tbody>\n",
       "</table>\n",
       "</div>"
      ],
      "text/plain": [
       "          Id    choose\n",
       "10000  10000  0.012232\n",
       "10001  10001  0.120729\n",
       "10002  10002  0.015954\n",
       "10003  10003  0.009565\n",
       "10004  10004  0.262765"
      ]
     },
     "execution_count": 41,
     "metadata": {},
     "output_type": "execute_result"
    }
   ],
   "source": [
    "X_test = df.loc[np.isnan(df.choose), feature_names + ['Id']]\n",
    "\n",
    "X_test[\"choose\"] = OurRFR.predict(X_test[feature_names].values)\n",
    "\n",
    "y_test = X_test.loc[:, ['Id', 'choose']]\n",
    "\n",
    "y_test.head()"
   ]
  },
  {
   "cell_type": "code",
   "execution_count": 42,
   "metadata": {},
   "outputs": [],
   "source": [
    "y_test.to_csv('Zharova_Natalija_predictions.csv', index=False)"
   ]
  }
 ],
 "metadata": {
  "kernelspec": {
   "display_name": "Python 3",
   "language": "python",
   "name": "python3"
  },
  "language_info": {
   "codemirror_mode": {
    "name": "ipython",
    "version": 3
   },
   "file_extension": ".py",
   "mimetype": "text/x-python",
   "name": "python",
   "nbconvert_exporter": "python",
   "pygments_lexer": "ipython3",
   "version": "3.7.4"
  }
 },
 "nbformat": 4,
 "nbformat_minor": 2
}
