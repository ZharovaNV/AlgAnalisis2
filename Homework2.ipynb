{
 "cells": [
  {
   "cell_type": "markdown",
   "metadata": {},
   "source": [
    "__1.__  Сгенерировать датасет при помощи sklearn.datasets.make_regression и обучить линейную модель при помощи градиентного и стохастического градиентного спуска. Нанести среднеквадратичную ошибку для обоих методов на один график, сделать выводы о разнице скорости сходимости каждого из методов."
   ]
  },
  {
   "cell_type": "code",
   "execution_count": 1,
   "metadata": {},
   "outputs": [],
   "source": [
    "import numpy as np\n",
    "from sklearn import datasets\n",
    "import matplotlib.pyplot as plt\n",
    "\n",
    "%matplotlib inline"
   ]
  },
  {
   "cell_type": "code",
   "execution_count": 6,
   "metadata": {},
   "outputs": [],
   "source": [
    "# сгенерируем набор данных\n",
    "X, y, coef = datasets.make_regression(n_samples=1000, n_features = 2, n_informative = 2, n_targets = 1, \n",
    "                                              noise = 5, coef = True, random_state = 42)"
   ]
  },
  {
   "cell_type": "code",
   "execution_count": 9,
   "metadata": {},
   "outputs": [
    {
     "data": {
      "text/plain": [
       "array([40.71064891,  6.60098441])"
      ]
     },
     "execution_count": 9,
     "metadata": {},
     "output_type": "execute_result"
    }
   ],
   "source": [
    "coef"
   ]
  },
  {
   "cell_type": "code",
   "execution_count": 10,
   "metadata": {},
   "outputs": [],
   "source": [
    "# реализуем функцию, определяющую среднеквадратичную ошибку\n",
    "def mserror(X, w, y_pred):\n",
    "    y = np.dot(X, w)\n",
    "    return (sum((y - y_pred)**2)) / len(y)"
   ]
  },
  {
   "cell_type": "code",
   "execution_count": 79,
   "metadata": {},
   "outputs": [],
   "source": [
    "# инициализируем начальный вектор весов\n",
    "w = np.zeros(2)\n",
    "\n",
    "# список векторов весов после каждой итерации\n",
    "w_list = [w.copy()]\n",
    "\n",
    "# список значений ошибок после каждой итерации\n",
    "errors = []\n",
    "\n",
    "# шаг градиентного спуска\n",
    "eta = 0.01\n",
    "\n",
    "# максимальное число итераций\n",
    "max_iter = 1e5\n",
    "\n",
    "# критерий сходимости (разница весов, при которой алгоритм останавливается)\n",
    "min_weight_dist = 1e-8\n",
    "\n",
    "# зададим начальную разницу весов большим числом\n",
    "weight_dist = np.inf\n",
    "\n",
    "# счетчик итераций\n",
    "iter_num = 0\n",
    "\n",
    "np.random.seed(42)\n",
    "\n",
    "# ход градиентного спуска\n",
    "while weight_dist > min_weight_dist and iter_num < max_iter:\n",
    "    \n",
    "    # генерируем случайный индекс объекта выборки\n",
    "    train_ind = np.random.randint(X.shape[0])\n",
    "    \n",
    "    new_w = w - 2 * eta * np.dot(X[train_ind].T, (np.dot(X[train_ind], w) - y[train_ind])) / y.shape[0]\n",
    "\n",
    "    weight_dist = np.linalg.norm(new_w - w, ord=2)\n",
    "    \n",
    "    w_list.append(new_w.copy())\n",
    "    errors.append(mserror(X, new_w, y))\n",
    "    \n",
    "    iter_num += 1\n",
    "    w = new_w\n",
    "    \n",
    "w_list = np.array(w_list)\n",
    "\n",
    "\n"
   ]
  },
  {
   "cell_type": "code",
   "execution_count": 80,
   "metadata": {},
   "outputs": [],
   "source": [
    "# инициализируем начальный вектор весов\n",
    "w = np.zeros(2)\n",
    "\n",
    "# список векторов весов после каждой итерации\n",
    "w_list2 = [w.copy()]\n",
    "\n",
    "# список значений ошибок после каждой итерации\n",
    "errors2 = []\n",
    "\n",
    "# счетчик итераций\n",
    "iter_num2 = 0\n",
    "\n",
    "# зададим начальную разницу весов большим числом\n",
    "weight_dist = np.inf\n",
    "\n",
    "# ход градиентного спуска\n",
    "while weight_dist > min_weight_dist and iter_num2 < max_iter:\n",
    "\n",
    "    new_w = w - 2 * eta * np.dot(X.T, (np.dot(X, w) - y)) / y.shape[0]\n",
    "\n",
    "    weight_dist = np.linalg.norm(new_w - w, ord=2)\n",
    "    \n",
    "    w_list2.append(new_w.copy())\n",
    "    errors2.append(mserror(X, new_w, y))\n",
    "    \n",
    "    iter_num2 += 1\n",
    "    w = new_w\n",
    "    \n",
    "w_list2 = np.array(w_list2)\n"
   ]
  },
  {
   "cell_type": "code",
   "execution_count": 81,
   "metadata": {},
   "outputs": [
    {
     "data": {
      "text/plain": [
       "<matplotlib.legend.Legend at 0x239b28a8588>"
      ]
     },
     "execution_count": 81,
     "metadata": {},
     "output_type": "execute_result"
    },
    {
     "data": {
      "image/png": "[encoded data removed]",
      "text/plain": [
       "<Figure size 432x288 with 1 Axes>"
      ]
     },
     "metadata": {
      "needs_background": "light"
     },
     "output_type": "display_data"
    }
   ],
   "source": [
    "plt.plot(range(len(errors)), errors, label = 'стохастический')\n",
    "plt.plot(range(len(errors2)), errors2, label = 'не стохастический')\n",
    "plt.xlim(0, 1000)\n",
    "plt.title('MSE')\n",
    "plt.xlabel('Iteration number')\n",
    "plt.legend()"
   ]
  },
  {
   "cell_type": "markdown",
   "metadata": {},
   "source": [
    "Скорость снижение MSE гораздо выше у градиентного спуска, чем у  стохастического градиентного спуска"
   ]
  },
  {
   "cell_type": "markdown",
   "metadata": {},
   "source": [
    "__2.__ Модифицировать решение первого задания путем добавления 𝐿2 -регуляризации (в функцию, считающую MSE, нужно добавить норму вектора весов) и сравнить результаты."
   ]
  },
  {
   "cell_type": "code",
   "execution_count": 89,
   "metadata": {},
   "outputs": [],
   "source": [
    "# реализуем функцию, определяющую среднеквадратичную ошибку с L2-регуляризацией\n",
    "def mserror_l2(X, w, y_pred, lambda_):\n",
    "    y = np.dot(X, w)\n",
    "    return (sum((y - y_pred)**2)) / len(y) + lambda_ * sum(w**2)"
   ]
  },
  {
   "cell_type": "code",
   "execution_count": 93,
   "metadata": {},
   "outputs": [],
   "source": [
    "# инициализируем начальный вектор весов\n",
    "w = np.zeros(2)\n",
    "\n",
    "# список векторов весов после каждой итерации\n",
    "w_list3 = [w.copy()]\n",
    "\n",
    "# список значений ошибок после каждой итерации\n",
    "errors3 = []\n",
    "\n",
    "# зададим начальную разницу весов большим числом\n",
    "weight_dist3 = np.inf\n",
    "\n",
    "# счетчик итераций\n",
    "iter_num3 = 0\n",
    "\n",
    "lambda_ = 0.5\n",
    "\n",
    "\n",
    "# ход градиентного спуска\n",
    "while weight_dist3 > min_weight_dist and iter_num3 < max_iter:\n",
    "    \n",
    "    # генерируем случайный индекс объекта выборки\n",
    "    train_ind = np.random.randint(X.shape[0])\n",
    "    \n",
    "    new_w = w - 2 * eta * (np.dot(X[train_ind].T, (np.dot(X[train_ind], w) - y[train_ind])) / y.shape[0] + 2 * lambda_ * w)\n",
    "\n",
    "    weight_dist3 = np.linalg.norm(new_w - w, ord=2)\n",
    "    \n",
    "    w_list3.append(new_w.copy())\n",
    "    errors3.append(mserror_l2(X, new_w, y, lambda_))\n",
    "    \n",
    "    iter_num3 += 1\n",
    "    w = new_w\n",
    "    \n",
    "w_list3 = np.array(w_list3)\n"
   ]
  },
  {
   "cell_type": "code",
   "execution_count": 94,
   "metadata": {},
   "outputs": [],
   "source": [
    "# инициализируем начальный вектор весов\n",
    "w = np.zeros(2)\n",
    "\n",
    "# список векторов весов после каждой итерации\n",
    "w_list4 = [w.copy()]\n",
    "\n",
    "# список значений ошибок после каждой итерации\n",
    "errors4 = []\n",
    "\n",
    "# счетчик итераций\n",
    "iter_num4 = 0\n",
    "\n",
    "# зададим начальную разницу весов большим числом\n",
    "weight_dist4 = np.inf\n",
    "\n",
    "lambda_ = 0.5\n",
    "\n",
    "# ход градиентного спуска\n",
    "while weight_dist4 > min_weight_dist and iter_num4 < max_iter:\n",
    "\n",
    "    new_w = w - 2 * eta * (np.dot(X.T, (np.dot(X, w) - y)) / y.shape[0] + 2 * lambda_ * w)\n",
    "\n",
    "    weight_dist4 = np.linalg.norm(new_w - w, ord=2)\n",
    "    \n",
    "    w_list4.append(new_w.copy())\n",
    "    errors4.append(mserror_l2(X, new_w, y, lambda_))\n",
    "    \n",
    "    iter_num4 += 1\n",
    "    w = new_w\n",
    "    \n",
    "w_list4 = np.array(w_list4)"
   ]
  },
  {
   "cell_type": "code",
   "execution_count": 95,
   "metadata": {},
   "outputs": [
    {
     "data": {
      "text/plain": [
       "<matplotlib.legend.Legend at 0x239b294ab48>"
      ]
     },
     "execution_count": 95,
     "metadata": {},
     "output_type": "execute_result"
    },
    {
     "data": {
      "image/png": "[encoded data removed]",
      "text/plain": [
       "<Figure size 432x288 with 1 Axes>"
      ]
     },
     "metadata": {
      "needs_background": "light"
     },
     "output_type": "display_data"
    }
   ],
   "source": [
    "plt.plot(range(len(errors3)), errors3, label = 'стохастический с L2 регуляризацией')\n",
    "plt.plot(range(len(errors)), errors, label = 'стохастический без L2 регуляризации')\n",
    "plt.plot(range(len(errors4)), errors4, label = 'не стохастич. с L2 регуляризацией')\n",
    "plt.plot(range(len(errors2)), errors2, label = 'не стохастич. без L2 регуляризации')\n",
    "plt.xlim(0, 1000)\n",
    "plt.title('MSE')\n",
    "plt.xlabel('Iteration number')\n",
    "plt.legend()"
   ]
  },
  {
   "cell_type": "code",
   "execution_count": 96,
   "metadata": {},
   "outputs": [
    {
     "data": {
      "text/plain": [
       "<matplotlib.legend.Legend at 0x239b2b81648>"
      ]
     },
     "execution_count": 96,
     "metadata": {},
     "output_type": "execute_result"
    },
    {
     "data": {
      "image/png": "[encoded data removed]",
      "text/plain": [
       "<Figure size 432x288 with 1 Axes>"
      ]
     },
     "metadata": {
      "needs_background": "light"
     },
     "output_type": "display_data"
    }
   ],
   "source": [
    "plt.plot(range(len(errors3)), errors3, label = 'стохастический с L2 регуляризацией')\n",
    "plt.plot(range(len(errors)), errors, label = 'стохастический без L2 регуляризации')\n",
    "# plt.xlim(0, 60000)\n",
    "plt.title('MSE')\n",
    "plt.xlabel('Iteration number')\n",
    "plt.legend()"
   ]
  },
  {
   "cell_type": "code",
   "execution_count": 97,
   "metadata": {},
   "outputs": [
    {
     "data": {
      "text/plain": [
       "<matplotlib.legend.Legend at 0x239b07a4dc8>"
      ]
     },
     "execution_count": 97,
     "metadata": {},
     "output_type": "execute_result"
    },
    {
     "data": {
      "image/png": "[encoded data removed]",
      "text/plain": [
       "<Figure size 432x288 with 1 Axes>"
      ]
     },
     "metadata": {
      "needs_background": "light"
     },
     "output_type": "display_data"
    }
   ],
   "source": [
    "plt.plot(range(len(errors4)), errors4, label = 'не стохастич. с L2 регуляризацией')\n",
    "plt.plot(range(len(errors2)), errors2, label = 'не стохастич. без L2 регуляризации')\n",
    "plt.xlim(0, 1000)\n",
    "plt.title('MSE')\n",
    "plt.xlabel('Iteration number')\n",
    "plt.legend()"
   ]
  },
  {
   "cell_type": "markdown",
   "metadata": {},
   "source": [
    "При L2-регуляризации требуется меньше итераций для достижения сходимости. Значение MSE получается больше, так как это уже не только величина ошибки, но и норма весов"
   ]
  },
  {
   "cell_type": "markdown",
   "metadata": {},
   "source": [
    "__3 [опция].__ Модернизировать решение задания 2, заменив L2 регуляризацию на L1 регуляризацию."
   ]
  },
  {
   "cell_type": "code",
   "execution_count": 98,
   "metadata": {},
   "outputs": [],
   "source": [
    "# реализуем функцию, определяющую среднеквадратичную ошибку с L2-регуляризацией\n",
    "def mserror_l1(X, w, y_pred, lambda_):\n",
    "    y = np.dot(X, w)\n",
    "    return (sum((y - y_pred)**2)) / len(y) + lambda_ * sum(abs(w))"
   ]
  },
  {
   "cell_type": "code",
   "execution_count": 105,
   "metadata": {},
   "outputs": [],
   "source": [
    "# инициализируем начальный вектор весов\n",
    "w = np.zeros(2)\n",
    "\n",
    "# список векторов весов после каждой итерации\n",
    "w_list5 = [w.copy()]\n",
    "\n",
    "# список значений ошибок после каждой итерации\n",
    "errors5 = []\n",
    "\n",
    "# зададим начальную разницу весов большим числом\n",
    "weight_dist5 = np.inf\n",
    "\n",
    "# счетчик итераций\n",
    "iter_num5 = 0\n",
    "\n",
    "lambda_ = 1\n",
    "\n",
    "\n",
    "# ход градиентного спуска\n",
    "while weight_dist5 > min_weight_dist and iter_num5 < max_iter:\n",
    "    \n",
    "    # генерируем случайный индекс объекта выборки\n",
    "    train_ind = np.random.randint(X.shape[0])\n",
    "    \n",
    "    new_w = w - 2 * eta * (np.dot(X[train_ind].T, (np.dot(X[train_ind], w) - y[train_ind])) / y.shape[0] + lambda_ * np.sign(w))\n",
    "\n",
    "    weight_dist5 = np.linalg.norm(new_w - w, ord=2)\n",
    "    \n",
    "    w_list5.append(new_w.copy())\n",
    "    errors5.append(mserror_l1(X, new_w, y, lambda_))\n",
    "    \n",
    "    iter_num5 += 1\n",
    "    w = new_w\n",
    "    \n",
    "w_list5 = np.array(w_list5)\n"
   ]
  },
  {
   "cell_type": "code",
   "execution_count": 106,
   "metadata": {},
   "outputs": [],
   "source": [
    "# инициализируем начальный вектор весов\n",
    "w = np.zeros(2)\n",
    "\n",
    "# список векторов весов после каждой итерации\n",
    "w_list6 = [w.copy()]\n",
    "\n",
    "# список значений ошибок после каждой итерации\n",
    "errors6 = []\n",
    "\n",
    "# счетчик итераций\n",
    "iter_num6 = 0\n",
    "\n",
    "# зададим начальную разницу весов большим числом\n",
    "weight_dist6 = np.inf\n",
    "\n",
    "lambda_ = 1\n",
    "\n",
    "# ход градиентного спуска\n",
    "while weight_dist6 > min_weight_dist and iter_num6 < max_iter:\n",
    "\n",
    "    new_w = w - 2 * eta * (np.dot(X.T, (np.dot(X, w) - y)) / y.shape[0] + lambda_ * np.sign(w))\n",
    "\n",
    "    weight_dist6 = np.linalg.norm(new_w - w, ord=2)\n",
    "    \n",
    "    w_list6.append(new_w.copy())\n",
    "    errors6.append(mserror_l1(X, new_w, y, lambda_))\n",
    "    \n",
    "    iter_num6 += 1\n",
    "    w = new_w\n",
    "    \n",
    "w_list6 = np.array(w_list6)"
   ]
  },
  {
   "cell_type": "code",
   "execution_count": 107,
   "metadata": {},
   "outputs": [
    {
     "data": {
      "text/plain": [
       "<matplotlib.legend.Legend at 0x239b2ca6288>"
      ]
     },
     "execution_count": 107,
     "metadata": {},
     "output_type": "execute_result"
    },
    {
     "data": {
      "image/png": "[encoded data removed]",
      "text/plain": [
       "<Figure size 432x288 with 1 Axes>"
      ]
     },
     "metadata": {
      "needs_background": "light"
     },
     "output_type": "display_data"
    }
   ],
   "source": [
    "plt.plot(range(len(errors4)), errors4, label = 'не стохастич. с L2 регуляризацией')\n",
    "plt.plot(range(len(errors6)), errors6, label = 'не стохастич. с L1 регуляризацией')\n",
    "plt.plot(range(len(errors2)), errors2, label = 'не стохастич. без L2 регуляризации')\n",
    "plt.xlim(0, 1000)\n",
    "plt.title('MSE')\n",
    "plt.xlabel('Iteration number')\n",
    "plt.legend()"
   ]
  },
  {
   "cell_type": "code",
   "execution_count": null,
   "metadata": {},
   "outputs": [],
   "source": []
  }
 ],
 "metadata": {
  "kernelspec": {
   "display_name": "Python 3",
   "language": "python",
   "name": "python3"
  },
  "language_info": {
   "codemirror_mode": {
    "name": "ipython",
    "version": 3
   },
   "file_extension": ".py",
   "mimetype": "text/x-python",
   "name": "python",
   "nbconvert_exporter": "python",
   "pygments_lexer": "ipython3",
   "version": "3.7.4"
  }
 },
 "nbformat": 4,
 "nbformat_minor": 2
}
