{
 "cells": [
  {
   "cell_type": "markdown",
   "metadata": {},
   "source": [
    "### 1. Подберите скорость обучения (alpha) и количество итераций"
   ]
  },
  {
   "cell_type": "code",
   "execution_count": 45,
   "metadata": {},
   "outputs": [],
   "source": [
    "import numpy as np\n",
    "import matplotlib.pyplot as plt"
   ]
  },
  {
   "cell_type": "code",
   "execution_count": 46,
   "metadata": {},
   "outputs": [],
   "source": [
    "y = [45, 55, 50, 59, 65, 35, 75, 80, 50, 60]"
   ]
  },
  {
   "cell_type": "code",
   "execution_count": 47,
   "metadata": {},
   "outputs": [],
   "source": [
    "X = np.array([[1, 1, 1, 1, 1, 1, 1, 1, 1, 1],\n",
    "              [1, 1, 2, 1, 3, 0, 5, 10, 1, 2]])"
   ]
  },
  {
   "cell_type": "code",
   "execution_count": 48,
   "metadata": {},
   "outputs": [
    {
     "data": {
      "text/plain": [
       "(array([1. , 0.5]), 0.01)"
      ]
     },
     "execution_count": 48,
     "metadata": {},
     "output_type": "execute_result"
    }
   ],
   "source": [
    "n = X.shape[1]\n",
    "alpha = 1e-2\n",
    "W = np.array([1, 0.5])\n",
    "min_err_dist = 1e-6 \n",
    "W, alpha"
   ]
  },
  {
   "cell_type": "code",
   "execution_count": 49,
   "metadata": {},
   "outputs": [],
   "source": [
    "y = [45, 55, 50, 55, 60, 35, 75, 80, 50, 60]"
   ]
  },
  {
   "cell_type": "code",
   "execution_count": 50,
   "metadata": {},
   "outputs": [],
   "source": [
    "def calc_mse(y, y_pred):\n",
    "    err = np.mean((y - y_pred)**2)\n",
    "    return err"
   ]
  },
  {
   "cell_type": "code",
   "execution_count": 58,
   "metadata": {},
   "outputs": [],
   "source": [
    "def test_alpha_niter(y, y_pred, alpha, max_iter, min_err_dist):\n",
    "    W = np.array([1, 0.5])\n",
    "    err = np.inf\n",
    "    for i in range(max_iter):\n",
    "        y_pred = np.dot(W, X)\n",
    "        err_new = calc_mse(y, y_pred)\n",
    "        if abs(err_new) > 100000000:\n",
    "            print(f'INF!!! Iteration {i}: W_new = {W}, MSE = {round(err,8)}')\n",
    "            break\n",
    "        if abs(err_new - err) < min_weight_dist:\n",
    "            print(f'Iteration {i}: W_new = {W}, MSE = {round(err,8)}')\n",
    "            break\n",
    "        err = err_new\n",
    "        for ii in range(W.shape[0]):\n",
    "            W[ii] -= alpha * (1/n * 2 * np.sum(X[ii] * (y_pred - y)))\n",
    "            # if i % 100 == 0:\n",
    "            #    print(i, W, err)"
   ]
  },
  {
   "cell_type": "code",
   "execution_count": 60,
   "metadata": {},
   "outputs": [
    {
     "name": "stdout",
     "output_type": "stream",
     "text": [
      "Iteration 807: W_new = [46.17687059  3.968564  ], MSE = 36.88142558\n"
     ]
    }
   ],
   "source": [
    "test_alpha_niter(y, y_pred, 0.01, 100000, min_err_dist)"
   ]
  },
  {
   "cell_type": "code",
   "execution_count": 61,
   "metadata": {},
   "outputs": [
    {
     "name": "stdout",
     "output_type": "stream",
     "text": [
      "Iteration 6992: W_new = [46.15635543  3.97235228], MSE = 36.88185819\n"
     ]
    }
   ],
   "source": [
    "test_alpha_niter(y, y_pred, 0.001, 100000, min_err_dist)"
   ]
  },
  {
   "cell_type": "code",
   "execution_count": 62,
   "metadata": {},
   "outputs": [
    {
     "name": "stdout",
     "output_type": "stream",
     "text": [
      "INF!!! Iteration 8: W_new = [ -547.21435461 -3109.3221263 ], MSE = 37268269.84065965\n"
     ]
    }
   ],
   "source": [
    "test_alpha_niter(y, y_pred, 0.1, 10000, min_err_dist)"
   ]
  },
  {
   "cell_type": "code",
   "execution_count": 63,
   "metadata": {},
   "outputs": [
    {
     "name": "stdout",
     "output_type": "stream",
     "text": [
      "Iteration 419: W_new = [46.17976523  3.96802949], MSE = 36.88140094\n"
     ]
    }
   ],
   "source": [
    "test_alpha_niter(y, y_pred, 0.02, 100000, min_err_dist)"
   ]
  },
  {
   "cell_type": "code",
   "execution_count": 64,
   "metadata": {},
   "outputs": [
    {
     "name": "stdout",
     "output_type": "stream",
     "text": [
      "Iteration 174: W_new = [46.18224549  3.96757149], MSE = 36.88138702\n"
     ]
    }
   ],
   "source": [
    "test_alpha_niter(y, y_pred, 0.05, 100000, min_err_dist)"
   ]
  },
  {
   "cell_type": "code",
   "execution_count": 66,
   "metadata": {},
   "outputs": [
    {
     "name": "stdout",
     "output_type": "stream",
     "text": [
      "Iteration 146: W_new = [46.18267874  3.96749149], MSE = 36.88138524\n"
     ]
    }
   ],
   "source": [
    "test_alpha_niter(y, y_pred, 0.06, 100000, min_err_dist)"
   ]
  },
  {
   "cell_type": "code",
   "execution_count": 67,
   "metadata": {},
   "outputs": [
    {
     "name": "stdout",
     "output_type": "stream",
     "text": [
      "INF!!! Iteration 52: W_new = [ -462.34513109 -2745.20692215], MSE = 95460529.1595758\n"
     ]
    }
   ],
   "source": [
    "test_alpha_niter(y, y_pred, 0.07, 100000, min_err_dist)"
   ]
  },
  {
   "cell_type": "code",
   "execution_count": 68,
   "metadata": {},
   "outputs": [
    {
     "name": "stdout",
     "output_type": "stream",
     "text": [
      "Iteration 235: W_new = [46.18638055  3.96769928], MSE = 36.88139011\n"
     ]
    }
   ],
   "source": [
    "test_alpha_niter(y, y_pred, 0.065, 100000, min_err_dist)"
   ]
  },
  {
   "cell_type": "markdown",
   "metadata": {},
   "source": [
    "Наименьшее число итераций (146) и наименьшее значение MSE получилось при $aplha = 0.06$"
   ]
  },
  {
   "cell_type": "markdown",
   "metadata": {},
   "source": [
    "### 2 (опция). В этом коде мы избавляемся от итераций по весам, но тут есть ошибка, исправьте ее:"
   ]
  },
  {
   "cell_type": "code",
   "execution_count": 73,
   "metadata": {},
   "outputs": [
    {
     "name": "stdout",
     "output_type": "stream",
     "text": [
      "0 [2.084 3.862] 3068.75\n",
      "100 [31.19721117  6.73467271] 160.2197550756897\n",
      "200 [40.91589024  4.94004427] 52.12992440539934\n",
      "300 [44.33310564  4.30902931] 38.76658299831662\n",
      "400 [45.53464353  4.08715614] 37.11444891266922\n",
      "500 [45.95712005  4.00914262] 36.91019258531745\n",
      "600 [46.10566836  3.98171204] 36.88494000586543\n",
      "700 [46.15789989  3.97206709] 36.88181798376089\n",
      "800 [46.17626519  3.9686758 ] 36.88143200251729\n",
      "900 [46.18272267  3.96748337] 36.88138428295753\n"
     ]
    }
   ],
   "source": [
    "n = X.shape[1]\n",
    "alpha = 1e-2\n",
    "W = np.array([1, 0.5])\n",
    "\n",
    "\n",
    "for i in range(1000):\n",
    "    y_pred = np.dot(W, X)\n",
    "    err = calc_mse(y, y_pred)\n",
    "    #for ii in range(W.shape[0]):\n",
    "    #    W[ii] -= alpha * (1/n * 2 * np.sum(X[ii] * (y_pred - y)))\n",
    "    W -= (alpha * (1/n * 2 * (X @ (y_pred - y))))\n",
    "    if i % 100 == 0:\n",
    "        print(i, W, err)\n"
   ]
  },
  {
   "cell_type": "markdown",
   "metadata": {},
   "source": [
    "### 3 (опция). Реализовать один из критериев останова, перечисленный в методичке."
   ]
  },
  {
   "cell_type": "code",
   "execution_count": 88,
   "metadata": {},
   "outputs": [],
   "source": [
    "def test_alpha_niter(y, y_pred, alpha, max_iter, min_err_dist, min_weight_dist):\n",
    "    W = np.array([1, 0.5])\n",
    "    W_new = np.array([1000, 0.5])\n",
    "    err = np.inf\n",
    "    for i in range(max_iter):\n",
    "        y_pred = np.dot(W, X)\n",
    "        err_new = calc_mse(y, y_pred)\n",
    "        \n",
    "        if abs(err_new) > 100000000:\n",
    "            print('Процесс разошелся')\n",
    "            print(f'INF!!! Iteration {i}: W_new = {W_new}, MSE = {round(err,8)}')\n",
    "            break\n",
    "        if abs(err_new - err) < min_err_dist:\n",
    "            print('Сработал критерий останова: изменение MSE меньше заданного числа')\n",
    "            print(f'Iteration {i}: W_new = {W_new}, MSE = {round(err,8)}')\n",
    "            break\n",
    "        \n",
    "        err = err_new\n",
    "        for ii in range(W.shape[0]):\n",
    "            W_new[ii] = W[ii] - alpha * (1/n * 2 * np.sum(X[ii] * (y_pred - y)))\n",
    "            # if i % 100 == 0:\n",
    "            #    print(i, W, err)\n",
    "        if np.linalg.norm(W_new - W, ord=2) < min_weight_dist:\n",
    "            print('Сработал критерий останова: изменение весов меньше заданного числа')\n",
    "            print(f'Iteration {i}: W_new = {W_new}, MSE = {round(err,8)}')\n",
    "            break\n",
    "        W = W_new.copy()\n",
    "       "
   ]
  },
  {
   "cell_type": "code",
   "execution_count": 89,
   "metadata": {},
   "outputs": [
    {
     "name": "stdout",
     "output_type": "stream",
     "text": [
      "Сработал критерий останова: изменение MSE меньше заданного числа\n",
      "Iteration 146: W_new = [46.18267874  3.96749149], MSE = 36.88138524\n"
     ]
    }
   ],
   "source": [
    "test_alpha_niter(y, y_pred, 0.06, 100000, 1e-6, 1e-6)"
   ]
  },
  {
   "cell_type": "code",
   "execution_count": 93,
   "metadata": {},
   "outputs": [
    {
     "name": "stdout",
     "output_type": "stream",
     "text": [
      "Сработал критерий останова: изменение весов меньше заданного числа\n",
      "Iteration 88: W_new = [46.0467942   3.99258369], MSE = 36.89326642\n"
     ]
    }
   ],
   "source": [
    "test_alpha_niter(y, y_pred, 0.06, 100000, 1e-6, 1e-2)"
   ]
  }
 ],
 "metadata": {
  "kernelspec": {
   "display_name": "Python 3",
   "language": "python",
   "name": "python3"
  },
  "language_info": {
   "codemirror_mode": {
    "name": "ipython",
    "version": 3
   },
   "file_extension": ".py",
   "mimetype": "text/x-python",
   "name": "python",
   "nbconvert_exporter": "python",
   "pygments_lexer": "ipython3",
   "version": "3.7.4"
  }
 },
 "nbformat": 4,
 "nbformat_minor": 2
}
