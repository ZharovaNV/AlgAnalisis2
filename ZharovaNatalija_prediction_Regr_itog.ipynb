{
 "cells": [
  {
   "cell_type": "code",
   "execution_count": 37,
   "metadata": {},
   "outputs": [],
   "source": [
    "import numpy as np\n",
    "import pandas as pd\n",
    "from sklearn.model_selection import train_test_split\n",
    "import matplotlib.pyplot as plt\n",
    "import seaborn as sns"
   ]
  },
  {
   "cell_type": "code",
   "execution_count": 38,
   "metadata": {},
   "outputs": [],
   "source": [
    "import warnings\n",
    "\n",
    "warnings.filterwarnings('ignore')"
   ]
  },
  {
   "cell_type": "markdown",
   "metadata": {},
   "source": [
    "### Функция расчета r2-score и метод градиентного бустинга"
   ]
  },
  {
   "cell_type": "markdown",
   "metadata": {},
   "source": [
    "В результате экспетиментов в качестве модели выбран \"Градиентный бустинг\".\n",
    "\n",
    "Так как среди признаков много категориальных, то подстроение случайного леса, основанное на выборке параметров методом бутстрап, работает плохо, так как некоторые деревья при этом строятся только на категориальных переменных. Поэтому в алгоритм внесены изменения, так чтобы дерево всегда строилось на всем множетстве переменных - тесты показали, что в этом случае результат получается лучше.\n",
    "\n",
    "В качестве гиперпараметров оставлены только глубина дерева и количество деревьев, как наиболее существенно влияющие на результат."
   ]
  },
  {
   "cell_type": "code",
   "execution_count": 39,
   "metadata": {},
   "outputs": [],
   "source": [
    "def my_r2_score(y_true, y_pred):\n",
    "    n = y_true.shape[0]\n",
    "    y_mean = np.sum(y_true)/n\n",
    "    \n",
    "    sum1 = 0\n",
    "    sum2 = 0\n",
    "    for i in range(n):\n",
    "        sum1 += (y_true[i] - y_pred[i])**2\n",
    "        sum2 += (y_true[i] - y_mean)**2\n",
    "    return 1 - sum1 / sum2"
   ]
  },
  {
   "cell_type": "code",
   "execution_count": 40,
   "metadata": {},
   "outputs": [],
   "source": [
    "# Реализуем класс узла\n",
    "\n",
    "class Node:\n",
    "    \n",
    "    def __init__(self, index, t, true_branch, false_branch):\n",
    "        self.index = index  # индекс признака, по которому ведется сравнение с порогом в этом узле\n",
    "        self.t = t  # значение порога\n",
    "        self.true_branch = true_branch  # поддерево, удовлетворяющее условию в узле\n",
    "        self.false_branch = false_branch  # поддерево, не удовлетворяющее условию в узле\n",
    "        \n",
    "# И класс терминального узла (листа)\n",
    "\n",
    "class Leaf:\n",
    "    \n",
    "    def __init__(self, data, labels):\n",
    "        self.data = data\n",
    "        self.labels = labels\n",
    "        self.prediction = self.predict()\n",
    "        \n",
    "    def predict(self):\n",
    "        return np.mean(self.labels)     \n",
    "\n",
    "class OurDecisionTreeRegressor:\n",
    "    def __init__(\n",
    "        self, \n",
    "        max_depth: int = 0):\n",
    "        \n",
    "        self.max_depth = max_depth\n",
    "        self.cur_leaf = 0\n",
    "        self.depth = 0\n",
    "        self.cur_leaf = 0\n",
    "        self.tree = None\n",
    "        \n",
    "    def fit(self, data, labels):\n",
    "        \n",
    "        self.tree = self.build_tree(data, labels, 0)\n",
    "        return self\n",
    "    \n",
    "    \n",
    "    def predict(self, data):\n",
    "    \n",
    "        classes = []\n",
    "        for obj in data:\n",
    "            prediction = self.classify_object(obj, self.tree)\n",
    "            classes.append(prediction)\n",
    "        return classes\n",
    "    \n",
    "    \n",
    "    def build_tree(self, data, labels, cur_depth):\n",
    "\n",
    "\n",
    "        quality, t, index = self.find_best_split(data, labels)\n",
    "\n",
    "        #  Базовый случай - прекращаем рекурсию, когда нет прироста в качества\n",
    "        if quality == 0:\n",
    "            return Leaf(data, labels)\n",
    "\n",
    "        #  Ограничение на глубину дерева\n",
    "        if cur_depth >= self.max_depth:\n",
    "            return Leaf(data, labels)\n",
    "\n",
    "\n",
    "        true_data, false_data, true_labels, false_labels = self.split(data, labels, index, t)\n",
    "        \n",
    "        self.depth += 1\n",
    "        \n",
    "        # Рекурсивно строим два поддерева\n",
    "        true_branch = self.build_tree(true_data, true_labels, cur_depth + 1)\n",
    "        false_branch = self.build_tree(false_data, false_labels, cur_depth + 1)\n",
    "        \n",
    "\n",
    "        # Возвращаем класс узла со всеми поддеревьями, то есть целого дерева\n",
    "        return Node(index, t, true_branch, false_branch)\n",
    "    \n",
    "    # Нахождение наилучшего разбиения\n",
    "    def find_best_split(self, data, labels):\n",
    "    \n",
    "        #  обозначим минимальное количество объектов в узле\n",
    "        min_leaf = 5\n",
    "\n",
    "        current_criter = self.criterion(labels)\n",
    "\n",
    "        best_quality = 0\n",
    "        best_t = None\n",
    "        best_index = None\n",
    "\n",
    "        n_features = data.shape[1]\n",
    "\n",
    "        for index in range(n_features): \n",
    "            # будем проверять только уникальные значения признака, исключая повторения\n",
    "            t_values = np.unique([row[index] for row in data])\n",
    "\n",
    "            for t in t_values:\n",
    "                true_data, false_data, true_labels, false_labels = self.split(data, labels, index, t)\n",
    "                #  пропускаем разбиения, в которых в узле остается менее 5 объектов\n",
    "                if len(true_data) < min_leaf or len(false_data) < min_leaf:\n",
    "                    continue\n",
    "\n",
    "                current_quality = self.quality(true_labels, false_labels, current_criter)\n",
    "\n",
    "                #  выбираем порог, на котором получается максимальный прирост качества\n",
    "                if current_quality > best_quality:\n",
    "                    best_quality, best_t, best_index = current_quality, t, index\n",
    "\n",
    "        return best_quality, best_t, best_index\n",
    "    \n",
    "    # Разбиение датасета в узле\n",
    "    @staticmethod\n",
    "    def split(data, labels, index, t):\n",
    "\n",
    "        left = np.where(data[:, index] <= t)\n",
    "        right = np.where(data[:, index] > t)\n",
    "\n",
    "        true_data = data[left]\n",
    "        false_data = data[right]\n",
    "        true_labels = labels[left]\n",
    "        false_labels = labels[right]\n",
    "\n",
    "        return true_data, false_data, true_labels, false_labels\n",
    "    \n",
    "    # Расчет качества\n",
    "    def quality(self, left_labels, right_labels, current_criter):\n",
    "\n",
    "        # доля выбоки, ушедшая в левое поддерево\n",
    "        p = float(left_labels.shape[0]) / (left_labels.shape[0] + right_labels.shape[0])\n",
    "\n",
    "        return current_criter - p * self.criterion(left_labels) - \\\n",
    "                (1 - p) * self.criterion(right_labels)\n",
    "    \n",
    "    # Расчет критерия Джини или Энтропии\n",
    "    @staticmethod\n",
    "    def criterion(labels):\n",
    "        return np.var(labels)\n",
    "    \n",
    "    # классификация объектов\n",
    "    def classify_object(self, obj, node):\n",
    "\n",
    "        #  Останавливаем рекурсию, если достигли листа\n",
    "        if isinstance(node, Leaf):\n",
    "            answer = node.prediction\n",
    "            \n",
    "            return answer\n",
    "\n",
    "        if obj[node.index] <= node.t:\n",
    "            return self.classify_object(obj, node.true_branch)\n",
    "        else:\n",
    "            return self.classify_object(obj, node.false_branch)"
   ]
  },
  {
   "cell_type": "code",
   "execution_count": 41,
   "metadata": {},
   "outputs": [],
   "source": [
    "class OurGBoostRegressor:\n",
    "    def __init__(\n",
    "        self,\n",
    "        n_trees: int = 3,\n",
    "        max_depth: int = 3,\n",
    "        coefs: list =  [1] * 3,\n",
    "        eta: float = 0.1):\n",
    "        \n",
    "        self.n_trees = n_trees\n",
    "        self.max_depth = max_depth\n",
    "        self.coefs = coefs\n",
    "        self.eta = eta\n",
    "        self.trees = []\n",
    "        \n",
    "    def fit(self, X_train, y_train):\n",
    "        self = self.gb_fit(X_train, y_train)\n",
    "        return self\n",
    "    \n",
    "    def predict(self, X: np.array):\n",
    "        return self.gb_predict(X)\n",
    "    \n",
    "    def gb_fit(self, X_train, y_train):\n",
    "    \n",
    "        # Деревья будем записывать в список\n",
    "        self.trees = []\n",
    "\n",
    "        for i in range(self.n_trees):\n",
    "            tree = OurDecisionTreeRegressor(max_depth=self.max_depth)\n",
    "\n",
    "            # инициализируем бустинг начальным алгоритмом, возвращающим ноль, \n",
    "            # поэтому первый алгоритм просто обучаем на выборке и добавляем в список\n",
    "            if len(self.trees) == 0:\n",
    "                # обучаем первое дерево на обучающей выборке\n",
    "                tree.fit(X_train, y_train)\n",
    "\n",
    "            else:\n",
    "                # Получим ответы на текущей композиции\n",
    "                target = self.gb_predict(X_train)\n",
    "\n",
    "                # алгоритмы начиная со второго обучаем на сдвиг\n",
    "                tree.fit(X_train, self.bias(y_train, target))\n",
    "\n",
    "            self.trees.append(tree)\n",
    "\n",
    "        return self\n",
    "    \n",
    "    def gb_predict(self, X):\n",
    "        # Реализуемый алгоритм градиентного бустинга будет инициализироваться нулевыми значениями,\n",
    "        # поэтому все деревья из списка trees_list уже являются дополнительными и при предсказании прибавляются с шагом eta\n",
    "        return np.array([sum([self.eta* coef * alg.predict([x])[0] for alg, coef in zip(self.trees, self.coefs)]) for x in X])\n",
    "    \n",
    "    @staticmethod\n",
    "    def bias(y, z):\n",
    "        return (y - z)"
   ]
  },
  {
   "cell_type": "markdown",
   "metadata": {},
   "source": [
    "### Подготовка данных"
   ]
  },
  {
   "cell_type": "code",
   "execution_count": 42,
   "metadata": {},
   "outputs": [],
   "source": [
    "train_data = pd.read_csv('train.csv')\n",
    "test_data = pd.read_csv('test.csv')\n",
    "df = pd.concat([train_data, test_data], axis=0)"
   ]
  },
  {
   "cell_type": "code",
   "execution_count": 43,
   "metadata": {},
   "outputs": [
    {
     "data": {
      "text/html": [
       "<div>\n",
       "<style scoped>\n",
       "    .dataframe tbody tr th:only-of-type {\n",
       "        vertical-align: middle;\n",
       "    }\n",
       "\n",
       "    .dataframe tbody tr th {\n",
       "        vertical-align: top;\n",
       "    }\n",
       "\n",
       "    .dataframe thead th {\n",
       "        text-align: right;\n",
       "    }\n",
       "</style>\n",
       "<table border=\"1\" class=\"dataframe\">\n",
       "  <thead>\n",
       "    <tr style=\"text-align: right;\">\n",
       "      <th></th>\n",
       "      <th>Id</th>\n",
       "      <th>age</th>\n",
       "      <th>biology</th>\n",
       "      <th>chemistry</th>\n",
       "      <th>english</th>\n",
       "      <th>geography</th>\n",
       "      <th>history</th>\n",
       "      <th>lesson_price</th>\n",
       "      <th>mean_exam_points</th>\n",
       "      <th>physics</th>\n",
       "      <th>qualification</th>\n",
       "      <th>years_of_experience</th>\n",
       "    </tr>\n",
       "  </thead>\n",
       "  <tbody>\n",
       "    <tr>\n",
       "      <td>0</td>\n",
       "      <td>0</td>\n",
       "      <td>40.0</td>\n",
       "      <td>0.0</td>\n",
       "      <td>0.0</td>\n",
       "      <td>0.0</td>\n",
       "      <td>1.0</td>\n",
       "      <td>0.0</td>\n",
       "      <td>1400.0</td>\n",
       "      <td>63.0</td>\n",
       "      <td>1.0</td>\n",
       "      <td>1.0</td>\n",
       "      <td>0.0</td>\n",
       "    </tr>\n",
       "    <tr>\n",
       "      <td>1</td>\n",
       "      <td>1</td>\n",
       "      <td>48.0</td>\n",
       "      <td>0.0</td>\n",
       "      <td>0.0</td>\n",
       "      <td>0.0</td>\n",
       "      <td>0.0</td>\n",
       "      <td>0.0</td>\n",
       "      <td>2850.0</td>\n",
       "      <td>86.0</td>\n",
       "      <td>1.0</td>\n",
       "      <td>3.0</td>\n",
       "      <td>4.0</td>\n",
       "    </tr>\n",
       "    <tr>\n",
       "      <td>2</td>\n",
       "      <td>2</td>\n",
       "      <td>39.0</td>\n",
       "      <td>0.0</td>\n",
       "      <td>0.0</td>\n",
       "      <td>0.0</td>\n",
       "      <td>0.0</td>\n",
       "      <td>0.0</td>\n",
       "      <td>1200.0</td>\n",
       "      <td>53.0</td>\n",
       "      <td>0.0</td>\n",
       "      <td>1.0</td>\n",
       "      <td>0.0</td>\n",
       "    </tr>\n",
       "    <tr>\n",
       "      <td>3</td>\n",
       "      <td>3</td>\n",
       "      <td>46.0</td>\n",
       "      <td>0.0</td>\n",
       "      <td>0.0</td>\n",
       "      <td>0.0</td>\n",
       "      <td>0.0</td>\n",
       "      <td>0.0</td>\n",
       "      <td>1400.0</td>\n",
       "      <td>56.0</td>\n",
       "      <td>0.0</td>\n",
       "      <td>1.0</td>\n",
       "      <td>5.0</td>\n",
       "    </tr>\n",
       "    <tr>\n",
       "      <td>4</td>\n",
       "      <td>4</td>\n",
       "      <td>43.0</td>\n",
       "      <td>0.0</td>\n",
       "      <td>0.0</td>\n",
       "      <td>0.0</td>\n",
       "      <td>0.0</td>\n",
       "      <td>0.0</td>\n",
       "      <td>1500.0</td>\n",
       "      <td>59.0</td>\n",
       "      <td>0.0</td>\n",
       "      <td>1.0</td>\n",
       "      <td>1.0</td>\n",
       "    </tr>\n",
       "  </tbody>\n",
       "</table>\n",
       "</div>"
      ],
      "text/plain": [
       "   Id   age  biology  chemistry  english  geography  history  lesson_price  \\\n",
       "0   0  40.0      0.0        0.0      0.0        1.0      0.0        1400.0   \n",
       "1   1  48.0      0.0        0.0      0.0        0.0      0.0        2850.0   \n",
       "2   2  39.0      0.0        0.0      0.0        0.0      0.0        1200.0   \n",
       "3   3  46.0      0.0        0.0      0.0        0.0      0.0        1400.0   \n",
       "4   4  43.0      0.0        0.0      0.0        0.0      0.0        1500.0   \n",
       "\n",
       "   mean_exam_points  physics  qualification  years_of_experience  \n",
       "0              63.0      1.0            1.0                  0.0  \n",
       "1              86.0      1.0            3.0                  4.0  \n",
       "2              53.0      0.0            1.0                  0.0  \n",
       "3              56.0      0.0            1.0                  5.0  \n",
       "4              59.0      0.0            1.0                  1.0  "
      ]
     },
     "execution_count": 43,
     "metadata": {},
     "output_type": "execute_result"
    }
   ],
   "source": [
    "df.head()"
   ]
  },
  {
   "cell_type": "markdown",
   "metadata": {},
   "source": [
    "Посчитаем базовые статистики по набору данных"
   ]
  },
  {
   "cell_type": "code",
   "execution_count": 44,
   "metadata": {},
   "outputs": [
    {
     "data": {
      "text/html": [
       "<div>\n",
       "<style scoped>\n",
       "    .dataframe tbody tr th:only-of-type {\n",
       "        vertical-align: middle;\n",
       "    }\n",
       "\n",
       "    .dataframe tbody tr th {\n",
       "        vertical-align: top;\n",
       "    }\n",
       "\n",
       "    .dataframe thead th {\n",
       "        text-align: right;\n",
       "    }\n",
       "</style>\n",
       "<table border=\"1\" class=\"dataframe\">\n",
       "  <thead>\n",
       "    <tr style=\"text-align: right;\">\n",
       "      <th></th>\n",
       "      <th>count</th>\n",
       "      <th>mean</th>\n",
       "      <th>std</th>\n",
       "      <th>min</th>\n",
       "      <th>25%</th>\n",
       "      <th>50%</th>\n",
       "      <th>75%</th>\n",
       "      <th>max</th>\n",
       "    </tr>\n",
       "  </thead>\n",
       "  <tbody>\n",
       "    <tr>\n",
       "      <td>Id</td>\n",
       "      <td>20000.0</td>\n",
       "      <td>9999.50000</td>\n",
       "      <td>5773.647028</td>\n",
       "      <td>0.0</td>\n",
       "      <td>4999.75</td>\n",
       "      <td>9999.5</td>\n",
       "      <td>14999.25</td>\n",
       "      <td>19999.0</td>\n",
       "    </tr>\n",
       "    <tr>\n",
       "      <td>age</td>\n",
       "      <td>20000.0</td>\n",
       "      <td>45.92540</td>\n",
       "      <td>8.000165</td>\n",
       "      <td>23.0</td>\n",
       "      <td>41.00</td>\n",
       "      <td>46.0</td>\n",
       "      <td>51.00</td>\n",
       "      <td>68.0</td>\n",
       "    </tr>\n",
       "    <tr>\n",
       "      <td>biology</td>\n",
       "      <td>20000.0</td>\n",
       "      <td>0.11485</td>\n",
       "      <td>0.318849</td>\n",
       "      <td>0.0</td>\n",
       "      <td>0.00</td>\n",
       "      <td>0.0</td>\n",
       "      <td>0.00</td>\n",
       "      <td>1.0</td>\n",
       "    </tr>\n",
       "    <tr>\n",
       "      <td>chemistry</td>\n",
       "      <td>20000.0</td>\n",
       "      <td>0.12820</td>\n",
       "      <td>0.334321</td>\n",
       "      <td>0.0</td>\n",
       "      <td>0.00</td>\n",
       "      <td>0.0</td>\n",
       "      <td>0.00</td>\n",
       "      <td>1.0</td>\n",
       "    </tr>\n",
       "    <tr>\n",
       "      <td>english</td>\n",
       "      <td>20000.0</td>\n",
       "      <td>0.05485</td>\n",
       "      <td>0.227693</td>\n",
       "      <td>0.0</td>\n",
       "      <td>0.00</td>\n",
       "      <td>0.0</td>\n",
       "      <td>0.00</td>\n",
       "      <td>1.0</td>\n",
       "    </tr>\n",
       "    <tr>\n",
       "      <td>geography</td>\n",
       "      <td>20000.0</td>\n",
       "      <td>0.03175</td>\n",
       "      <td>0.175338</td>\n",
       "      <td>0.0</td>\n",
       "      <td>0.00</td>\n",
       "      <td>0.0</td>\n",
       "      <td>0.00</td>\n",
       "      <td>1.0</td>\n",
       "    </tr>\n",
       "    <tr>\n",
       "      <td>history</td>\n",
       "      <td>20000.0</td>\n",
       "      <td>0.01890</td>\n",
       "      <td>0.136175</td>\n",
       "      <td>0.0</td>\n",
       "      <td>0.00</td>\n",
       "      <td>0.0</td>\n",
       "      <td>0.00</td>\n",
       "      <td>1.0</td>\n",
       "    </tr>\n",
       "    <tr>\n",
       "      <td>lesson_price</td>\n",
       "      <td>20000.0</td>\n",
       "      <td>1698.10000</td>\n",
       "      <td>524.562578</td>\n",
       "      <td>200.0</td>\n",
       "      <td>1300.00</td>\n",
       "      <td>1500.0</td>\n",
       "      <td>2150.00</td>\n",
       "      <td>4050.0</td>\n",
       "    </tr>\n",
       "    <tr>\n",
       "      <td>mean_exam_points</td>\n",
       "      <td>10000.0</td>\n",
       "      <td>64.34080</td>\n",
       "      <td>13.536823</td>\n",
       "      <td>32.0</td>\n",
       "      <td>55.00</td>\n",
       "      <td>63.0</td>\n",
       "      <td>73.00</td>\n",
       "      <td>100.0</td>\n",
       "    </tr>\n",
       "    <tr>\n",
       "      <td>physics</td>\n",
       "      <td>20000.0</td>\n",
       "      <td>0.37815</td>\n",
       "      <td>0.484937</td>\n",
       "      <td>0.0</td>\n",
       "      <td>0.00</td>\n",
       "      <td>0.0</td>\n",
       "      <td>1.00</td>\n",
       "      <td>1.0</td>\n",
       "    </tr>\n",
       "    <tr>\n",
       "      <td>qualification</td>\n",
       "      <td>20000.0</td>\n",
       "      <td>1.71445</td>\n",
       "      <td>0.792870</td>\n",
       "      <td>1.0</td>\n",
       "      <td>1.00</td>\n",
       "      <td>2.0</td>\n",
       "      <td>2.00</td>\n",
       "      <td>4.0</td>\n",
       "    </tr>\n",
       "    <tr>\n",
       "      <td>years_of_experience</td>\n",
       "      <td>20000.0</td>\n",
       "      <td>1.98340</td>\n",
       "      <td>1.777718</td>\n",
       "      <td>0.0</td>\n",
       "      <td>0.00</td>\n",
       "      <td>2.0</td>\n",
       "      <td>3.00</td>\n",
       "      <td>10.0</td>\n",
       "    </tr>\n",
       "  </tbody>\n",
       "</table>\n",
       "</div>"
      ],
      "text/plain": [
       "                       count        mean          std    min      25%     50%  \\\n",
       "Id                   20000.0  9999.50000  5773.647028    0.0  4999.75  9999.5   \n",
       "age                  20000.0    45.92540     8.000165   23.0    41.00    46.0   \n",
       "biology              20000.0     0.11485     0.318849    0.0     0.00     0.0   \n",
       "chemistry            20000.0     0.12820     0.334321    0.0     0.00     0.0   \n",
       "english              20000.0     0.05485     0.227693    0.0     0.00     0.0   \n",
       "geography            20000.0     0.03175     0.175338    0.0     0.00     0.0   \n",
       "history              20000.0     0.01890     0.136175    0.0     0.00     0.0   \n",
       "lesson_price         20000.0  1698.10000   524.562578  200.0  1300.00  1500.0   \n",
       "mean_exam_points     10000.0    64.34080    13.536823   32.0    55.00    63.0   \n",
       "physics              20000.0     0.37815     0.484937    0.0     0.00     0.0   \n",
       "qualification        20000.0     1.71445     0.792870    1.0     1.00     2.0   \n",
       "years_of_experience  20000.0     1.98340     1.777718    0.0     0.00     2.0   \n",
       "\n",
       "                          75%      max  \n",
       "Id                   14999.25  19999.0  \n",
       "age                     51.00     68.0  \n",
       "biology                  0.00      1.0  \n",
       "chemistry                0.00      1.0  \n",
       "english                  0.00      1.0  \n",
       "geography                0.00      1.0  \n",
       "history                  0.00      1.0  \n",
       "lesson_price          2150.00   4050.0  \n",
       "mean_exam_points        73.00    100.0  \n",
       "physics                  1.00      1.0  \n",
       "qualification            2.00      4.0  \n",
       "years_of_experience      3.00     10.0  "
      ]
     },
     "execution_count": 44,
     "metadata": {},
     "output_type": "execute_result"
    }
   ],
   "source": [
    "df.describe().T"
   ]
  },
  {
   "cell_type": "code",
   "execution_count": 45,
   "metadata": {},
   "outputs": [
    {
     "data": {
      "text/plain": [
       "['biology',\n",
       " 'chemistry',\n",
       " 'english',\n",
       " 'geography',\n",
       " 'history',\n",
       " 'physics',\n",
       " 'qualification',\n",
       " 'years_of_experience']"
      ]
     },
     "execution_count": 45,
     "metadata": {},
     "output_type": "execute_result"
    }
   ],
   "source": [
    "discrete_feature = [\n",
    "    feature for feature in df.select_dtypes(include=[np.number])\n",
    "    if len(df[feature].unique())<25 and feature != 'choose'\n",
    "]\n",
    "discrete_feature"
   ]
  },
  {
   "cell_type": "markdown",
   "metadata": {},
   "source": [
    "Посмотрим распределение среднего значения целевой переменной в группировке по дискретным признакам"
   ]
  },
  {
   "cell_type": "code",
   "execution_count": 46,
   "metadata": {},
   "outputs": [
    {
     "data": {
      "image/png": "[encoded data removed]",
      "text/plain": [
       "<Figure size 1800x1440 with 8 Axes>"
      ]
     },
     "metadata": {
      "needs_background": "light"
     },
     "output_type": "display_data"
    }
   ],
   "source": [
    "ig, axes = plt.subplots(2, 4, figsize=(25, 20))\n",
    "\n",
    "for num, feature in enumerate(discrete_feature):\n",
    "    data = train_data.copy()\n",
    "    statistics = data.groupby([feature])[\"mean_exam_points\"].mean()\n",
    "\n",
    "    sns.barplot(\n",
    "        x=statistics.index,\n",
    "        y=statistics.values,\n",
    "        palette=\"viridis\",\n",
    "        ax=axes[num%2, num//2]\n",
    "    )"
   ]
  },
  {
   "cell_type": "markdown",
   "metadata": {},
   "source": [
    "И распределение значений дискретных признаков на трейне и тесте"
   ]
  },
  {
   "cell_type": "code",
   "execution_count": 47,
   "metadata": {},
   "outputs": [
    {
     "data": {
      "image/png": "[encoded data removed]",
      "text/plain": [
       "<Figure size 1800x1440 with 16 Axes>"
      ]
     },
     "metadata": {
      "needs_background": "light"
     },
     "output_type": "display_data"
    }
   ],
   "source": [
    "ig, axes = plt.subplots(8, 2, figsize=(25, 20))\n",
    "\n",
    "for num, feature in enumerate(discrete_feature):\n",
    "    data = df[np.isnan(df.mean_exam_points)==False].copy()\n",
    "    axes[num, 0].hist(data[feature])\n",
    "    axes[num, 0].set_ylabel(feature)\n",
    "\n",
    "for num, feature in enumerate(discrete_feature):\n",
    "    data = df[np.isnan(df.mean_exam_points)==True].copy()\n",
    "    axes[num, 1].hist(data[feature])\n",
    "    axes[num, 1].set_ylabel(feature)"
   ]
  },
  {
   "cell_type": "markdown",
   "metadata": {},
   "source": [
    "Видим, что из трех показателей, относящихся к предметам, влияние оказывает только физика."
   ]
  },
  {
   "cell_type": "code",
   "execution_count": 48,
   "metadata": {},
   "outputs": [
    {
     "data": {
      "text/html": [
       "<div>\n",
       "<style scoped>\n",
       "    .dataframe tbody tr th:only-of-type {\n",
       "        vertical-align: middle;\n",
       "    }\n",
       "\n",
       "    .dataframe tbody tr th {\n",
       "        vertical-align: top;\n",
       "    }\n",
       "\n",
       "    .dataframe thead tr th {\n",
       "        text-align: left;\n",
       "    }\n",
       "</style>\n",
       "<table border=\"1\" class=\"dataframe\">\n",
       "  <thead>\n",
       "    <tr>\n",
       "      <th></th>\n",
       "      <th>qualification</th>\n",
       "      <th colspan=\"2\" halign=\"left\">mean_exam_points</th>\n",
       "    </tr>\n",
       "    <tr>\n",
       "      <th></th>\n",
       "      <th></th>\n",
       "      <th>mean</th>\n",
       "      <th>count</th>\n",
       "    </tr>\n",
       "  </thead>\n",
       "  <tbody>\n",
       "    <tr>\n",
       "      <td>0</td>\n",
       "      <td>1.0</td>\n",
       "      <td>55.919328</td>\n",
       "      <td>4884</td>\n",
       "    </tr>\n",
       "    <tr>\n",
       "      <td>1</td>\n",
       "      <td>2.0</td>\n",
       "      <td>65.056689</td>\n",
       "      <td>3087</td>\n",
       "    </tr>\n",
       "    <tr>\n",
       "      <td>2</td>\n",
       "      <td>3.0</td>\n",
       "      <td>83.494189</td>\n",
       "      <td>1979</td>\n",
       "    </tr>\n",
       "    <tr>\n",
       "      <td>3</td>\n",
       "      <td>4.0</td>\n",
       "      <td>84.660000</td>\n",
       "      <td>50</td>\n",
       "    </tr>\n",
       "  </tbody>\n",
       "</table>\n",
       "</div>"
      ],
      "text/plain": [
       "  qualification mean_exam_points      \n",
       "                            mean count\n",
       "0           1.0        55.919328  4884\n",
       "1           2.0        65.056689  3087\n",
       "2           3.0        83.494189  1979\n",
       "3           4.0        84.660000    50"
      ]
     },
     "execution_count": 48,
     "metadata": {},
     "output_type": "execute_result"
    }
   ],
   "source": [
    "df.groupby(['qualification'], as_index=False).agg({'mean_exam_points':['mean', 'count']})"
   ]
  },
  {
   "cell_type": "markdown",
   "metadata": {},
   "source": [
    "Значений для qualification = 4 очень мало, объединим их со значениями 3."
   ]
  },
  {
   "cell_type": "code",
   "execution_count": 49,
   "metadata": {},
   "outputs": [],
   "source": [
    "df['qualification2'] = df['qualification'].apply(lambda x: min(x, 3))"
   ]
  },
  {
   "cell_type": "markdown",
   "metadata": {},
   "source": [
    "Так как их общих соображений очевидно, что на цену урока влияет уровень квалификации преподавателя, очистим показатель lesson_price от этого влияния, разделив на значение медианы цены урока в разрезе каждого уровны квалификации.\n",
    "Так же из общих соображений можно было бы тем же методом очистить от влияния стажа, но тесты показывают, что в этом случае модель начинает работать хуже. Поэтому оставляет только отношение lesson_price к медиане по qualification, и отдельно переменную years_of_experience."
   ]
  },
  {
   "cell_type": "code",
   "execution_count": 50,
   "metadata": {},
   "outputs": [
    {
     "data": {
      "text/html": [
       "<div>\n",
       "<style scoped>\n",
       "    .dataframe tbody tr th:only-of-type {\n",
       "        vertical-align: middle;\n",
       "    }\n",
       "\n",
       "    .dataframe tbody tr th {\n",
       "        vertical-align: top;\n",
       "    }\n",
       "\n",
       "    .dataframe thead th {\n",
       "        text-align: right;\n",
       "    }\n",
       "</style>\n",
       "<table border=\"1\" class=\"dataframe\">\n",
       "  <thead>\n",
       "    <tr style=\"text-align: right;\">\n",
       "      <th></th>\n",
       "      <th>qualification</th>\n",
       "      <th>qualif_lesson_price_median</th>\n",
       "    </tr>\n",
       "  </thead>\n",
       "  <tbody>\n",
       "    <tr>\n",
       "      <td>0</td>\n",
       "      <td>1.0</td>\n",
       "      <td>1350.0</td>\n",
       "    </tr>\n",
       "    <tr>\n",
       "      <td>1</td>\n",
       "      <td>2.0</td>\n",
       "      <td>1700.0</td>\n",
       "    </tr>\n",
       "    <tr>\n",
       "      <td>2</td>\n",
       "      <td>3.0</td>\n",
       "      <td>2350.0</td>\n",
       "    </tr>\n",
       "    <tr>\n",
       "      <td>3</td>\n",
       "      <td>4.0</td>\n",
       "      <td>2400.0</td>\n",
       "    </tr>\n",
       "  </tbody>\n",
       "</table>\n",
       "</div>"
      ],
      "text/plain": [
       "   qualification  qualif_lesson_price_median\n",
       "0            1.0                      1350.0\n",
       "1            2.0                      1700.0\n",
       "2            3.0                      2350.0\n",
       "3            4.0                      2400.0"
      ]
     },
     "execution_count": 50,
     "metadata": {},
     "output_type": "execute_result"
    }
   ],
   "source": [
    "df2 = df.groupby(['qualification'], as_index=False).agg({'lesson_price':'median'})\n",
    "df2.rename(columns={'lesson_price': 'qualif_lesson_price_median'} , inplace=True)\n",
    "df2"
   ]
  },
  {
   "cell_type": "code",
   "execution_count": 51,
   "metadata": {},
   "outputs": [],
   "source": [
    "df = df.merge(df2, on='qualification', how='left')\n",
    "df['qualif_lesson_price'] = df.lesson_price/df.qualif_lesson_price_median"
   ]
  },
  {
   "cell_type": "code",
   "execution_count": 52,
   "metadata": {},
   "outputs": [
    {
     "data": {
      "text/plain": [
       "<matplotlib.collections.PathCollection at 0x1e8c15f4f48>"
      ]
     },
     "execution_count": 52,
     "metadata": {},
     "output_type": "execute_result"
    },
    {
     "data": {
      "image/png": "[encoded data removed]",
      "text/plain": [
       "<Figure size 432x288 with 1 Axes>"
      ]
     },
     "metadata": {
      "needs_background": "light"
     },
     "output_type": "display_data"
    }
   ],
   "source": [
    "plt.scatter(df.lesson_price, df.mean_exam_points)"
   ]
  },
  {
   "cell_type": "code",
   "execution_count": 53,
   "metadata": {},
   "outputs": [
    {
     "data": {
      "text/plain": [
       "<matplotlib.collections.PathCollection at 0x1e8c056eb88>"
      ]
     },
     "execution_count": 53,
     "metadata": {},
     "output_type": "execute_result"
    },
    {
     "data": {
      "image/png": "[encoded data removed]",
      "text/plain": [
       "<Figure size 432x288 with 1 Axes>"
      ]
     },
     "metadata": {
      "needs_background": "light"
     },
     "output_type": "display_data"
    }
   ],
   "source": [
    "plt.scatter(df.qualif_lesson_price, df.mean_exam_points)"
   ]
  },
  {
   "cell_type": "markdown",
   "metadata": {},
   "source": [
    "Существенного влияния показатель \"возраст\" на модель не обнаружено, поэтому далее он не используется"
   ]
  },
  {
   "cell_type": "code",
   "execution_count": 54,
   "metadata": {},
   "outputs": [
    {
     "data": {
      "text/plain": [
       "<matplotlib.collections.PathCollection at 0x1e8c08a0a88>"
      ]
     },
     "execution_count": 54,
     "metadata": {},
     "output_type": "execute_result"
    },
    {
     "data": {
      "image/png": "[encoded data removed]",
      "text/plain": [
       "<Figure size 432x288 with 1 Axes>"
      ]
     },
     "metadata": {
      "needs_background": "light"
     },
     "output_type": "display_data"
    }
   ],
   "source": [
    "plt.scatter(train_data.age, train_data.mean_exam_points)"
   ]
  },
  {
   "cell_type": "code",
   "execution_count": 55,
   "metadata": {},
   "outputs": [
    {
     "data": {
      "image/png": "[encoded data removed]",
      "text/plain": [
       "<Figure size 864x288 with 2 Axes>"
      ]
     },
     "metadata": {
      "needs_background": "light"
     },
     "output_type": "display_data"
    }
   ],
   "source": [
    "fig, axes = plt.subplots(1, 2, figsize=(12, 4))\n",
    "\n",
    "for num, feature in enumerate(['lesson_price','qualif_lesson_price']):\n",
    "    try:\n",
    "        train, test = df.loc[np.isnan(df.mean_exam_points)==False, feature].copy(), df.loc[np.isnan(df.mean_exam_points)==True, feature].copy()\n",
    "        sns.kdeplot(train, ax=axes[num%2], color=\"blue\", label=\"train\")\n",
    "        sns.kdeplot(test, ax=axes[num%2], color=\"green\", label=\"test\")\n",
    "    except RuntimeError:\n",
    "        pass\n",
    "    except KeyError:\n",
    "        train = df.loc[np.isnan(df.mean_exam_points)==False, feature].copy()\n",
    "        sns.kdeplot(train, ax=axes[num%2], color=\"blue\", label=\"train\")\n",
    "    axes[num%2].set_title(feature, fontsize=10)"
   ]
  },
  {
   "cell_type": "markdown",
   "metadata": {},
   "source": [
    "Видим, что распределение непрерывных показателей практически совпадает для трейна и теста. За счет нормирования на квалицикацию удается сгладить график, убрав \"горбик\". Теоретически выглядит логичным нормировать lesson_price еще и на медиану в группировке по years_of_experience, то есть исключить из средней цены влияние не только квалификации преподавателя, но и его опыт, то тесты показали, что модель в этом случае работает хуже."
   ]
  },
  {
   "cell_type": "markdown",
   "metadata": {},
   "source": [
    "### Обучение модели"
   ]
  },
  {
   "cell_type": "code",
   "execution_count": 56,
   "metadata": {},
   "outputs": [],
   "source": [
    "feature_names = [\n",
    " 'physics',\n",
    " 'qualification2',\n",
    " 'years_of_experience',\n",
    " 'qualif_lesson_price'\n",
    "]\n",
    "\n",
    "target_name = 'mean_exam_points'"
   ]
  },
  {
   "cell_type": "code",
   "execution_count": 57,
   "metadata": {},
   "outputs": [],
   "source": [
    "def model_prepare(df, test_size, feature_names, target_name):\n",
    "    \n",
    "\n",
    "    X = df.loc[np.isnan(df.mean_exam_points)==False, feature_names]\n",
    "    y = df.loc[np.isnan(df.mean_exam_points)==False, target_name]\n",
    "\n",
    "    if test_size > 0:\n",
    "        X_train, X_valid, y_train, y_valid = train_test_split(X, y, test_size=test_size, random_state=42)\n",
    "    else:\n",
    "        X_train = X\n",
    "        y_train = y\n",
    "        X_valid = None\n",
    "        y_valid = None\n",
    "\n",
    "    # Число деревьев в ансамбле\n",
    "    n_trees = 54\n",
    "\n",
    "    # для простоты примем коэффициенты равными 1\n",
    "    coefs = [1] * n_trees\n",
    "\n",
    "    # Максимальная глубина деревьев\n",
    "    max_depth = 4\n",
    "\n",
    "    # Шаг\n",
    "    eta = 0.2\n",
    "\n",
    "\n",
    "    OurGBR = OurGBoostRegressor(n_trees, max_depth, coefs, eta)\n",
    "    OurGBR.fit(X_train.values, y_train.values)\n",
    "    \n",
    "    return OurGBR, X_train, y_train, X_valid, y_valid"
   ]
  },
  {
   "cell_type": "code",
   "execution_count": 58,
   "metadata": {},
   "outputs": [],
   "source": [
    "OurGBR, X_train, y_train, X_valid, y_valid = model_prepare(df, 0.3, feature_names, target_name)"
   ]
  },
  {
   "cell_type": "code",
   "execution_count": 60,
   "metadata": {},
   "outputs": [],
   "source": [
    "y_pred = OurGBR.predict(X_valid.values)\n",
    "y_pred_train = OurGBR.predict(X_train.values)"
   ]
  },
  {
   "cell_type": "code",
   "execution_count": 62,
   "metadata": {},
   "outputs": [
    {
     "data": {
      "text/plain": [
       "(0.7946186696563369, 0.7814143369515253)"
      ]
     },
     "execution_count": 62,
     "metadata": {},
     "output_type": "execute_result"
    }
   ],
   "source": [
    "(my_r2_score(y_train.values, y_pred_train), my_r2_score(y_valid.values, y_pred))"
   ]
  },
  {
   "cell_type": "code",
   "execution_count": 63,
   "metadata": {},
   "outputs": [],
   "source": [
    "OurGBR, X_train, y_train, X_valid, y_valid = model_prepare(df, 0, feature_names, target_name)"
   ]
  },
  {
   "cell_type": "markdown",
   "metadata": {},
   "source": [
    "### Выгрузка результатов"
   ]
  },
  {
   "cell_type": "code",
   "execution_count": 64,
   "metadata": {},
   "outputs": [],
   "source": [
    "X_test = df.loc[np.isnan(df.mean_exam_points), feature_names + ['Id']]\n",
    "\n",
    "X_test[\"mean_exam_points\"] = OurGBR.predict(X_test[feature_names].values)\n",
    "\n",
    "y_test = X_test.loc[:, ['Id', 'mean_exam_points']]\n",
    "\n",
    "y_test.to_csv('Zharova_Natalija_predictions.csv', index=False)"
   ]
  }
 ],
 "metadata": {
  "kernelspec": {
   "display_name": "Python 3",
   "language": "python",
   "name": "python3"
  },
  "language_info": {
   "codemirror_mode": {
    "name": "ipython",
    "version": 3
   },
   "file_extension": ".py",
   "mimetype": "text/x-python",
   "name": "python",
   "nbconvert_exporter": "python",
   "pygments_lexer": "ipython3",
   "version": "3.7.4"
  }
 },
 "nbformat": 4,
 "nbformat_minor": 2
}
